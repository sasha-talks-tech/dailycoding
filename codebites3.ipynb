{
 "cells": [
  {
   "cell_type": "markdown",
   "id": "ef01c68a-5e2e-4b39-ae24-c04188b854ce",
   "metadata": {},
   "source": [
    "# Code Bites 3"
   ]
  },
  {
   "cell_type": "markdown",
   "id": "465757f8-f343-4c77-a40d-71f721ee90d8",
   "metadata": {},
   "source": [
    "### Problem 1: Sole Odd Number"
   ]
  },
  {
   "cell_type": "markdown",
   "id": "8f7fc44a-ac7b-4776-8b9d-e38cc5fcd58b",
   "metadata": {},
   "source": [
    "Create a method that takes an array/list as an input, and outputs the **index at which the sole odd number is located**. <br>\n",
    "<br>\n",
    "This method should work with arrays with negative numbers. If there are no odd numbers in the array, then the method should output -1. <br>\n",
    "<br>\n",
    "##### Examples:\n",
    "\n",
    "- odd_one([2,4,6,7,10]) # => 3\n",
    "- odd_one([2,16,98,10,13,78]) # => 4\n",
    "- odd_one([4,-8,98,-12,-7,90,100]) # => 4\n",
    "- odd_one([2,4,6,8]) # => -1"
   ]
  },
  {
   "cell_type": "markdown",
   "id": "5a365e5d-11c6-4542-a1ca-8f16a830e03d",
   "metadata": {},
   "source": [
    "##### My Solution:"
   ]
  },
  {
   "cell_type": "code",
   "execution_count": 3,
   "id": "285f6930-092b-4472-804d-d47b4aa3928d",
   "metadata": {},
   "outputs": [],
   "source": [
    "def odd_one_a(arr):\n",
    "    for item in arr:\n",
    "        if item % 2 != 0:\n",
    "            return arr.index(item)\n",
    "    for item in arr:\n",
    "        if (item % 2 != 0) not in arr:\n",
    "            return -1"
   ]
  },
  {
   "cell_type": "markdown",
   "id": "2de664e6-0f1b-4285-beea-5430b1246785",
   "metadata": {},
   "source": [
    "My solution is more lengthy because it evaluates the condition twice and it's unnecessary. Even though the code works it's not best practice. "
   ]
  },
  {
   "cell_type": "markdown",
   "id": "75a64300-2443-4da7-9fe9-afda99b10790",
   "metadata": {},
   "source": [
    "Another solution similar to mine:"
   ]
  },
  {
   "cell_type": "code",
   "execution_count": 9,
   "id": "dda7fb7c-7f40-4034-b5cd-e113251682d0",
   "metadata": {},
   "outputs": [],
   "source": [
    "def odd_one_ab(arr):\n",
    "    for num in arr:\n",
    "        if num % 2 != 0:\n",
    "            return arr.index(num)\n",
    "            break\n",
    "    else: \n",
    "        return -1"
   ]
  },
  {
   "cell_type": "markdown",
   "id": "ea488a3d-5c9f-443a-863f-b3d0128a2855",
   "metadata": {},
   "source": [
    "##### Better Solution:"
   ]
  },
  {
   "cell_type": "code",
   "execution_count": 4,
   "id": "02ae1f47-cda3-40ec-a608-ac080c5abaa6",
   "metadata": {},
   "outputs": [],
   "source": [
    "def odd_one_b(arr):\n",
    "    for i in range(len(arr)):\n",
    "        if arr[i] % 2 != 0:\n",
    "            return i\n",
    "    return -1\n",
    "            "
   ]
  },
  {
   "cell_type": "markdown",
   "id": "a8f39e60-52fc-4d95-b9ee-93237ea5f8b7",
   "metadata": {},
   "source": [
    "##### Most concise:"
   ]
  },
  {
   "cell_type": "code",
   "execution_count": 5,
   "id": "950d4369-71f3-4483-9d42-593529dfd7a0",
   "metadata": {},
   "outputs": [],
   "source": [
    "def odd_one_c(arr):\n",
    "    return next((i for i,v in enumerate(arr) if v&1), -1)"
   ]
  },
  {
   "cell_type": "markdown",
   "id": "53c474d7-a97b-4ab4-9b05-0df8d9330c38",
   "metadata": {},
   "source": [
    "**Explanation:** <br>\n",
    "- *enumerate(arr)*: This function generates **pairs of index and value** from the list arr.\n",
    "- *if v & 1*: This condition checks if the value **v is odd** by using the **bitwise AND operator**. If v & 1 evaluates to True, it indicates that v is an odd number.\n",
    "- *next(...)*: This function **retrieves the first item from** the generator expression. If no odd number is found, it returns -1 as a default value.\n",
    "- *(i for i, v in enumerate(arr) if v & 1)*: A **generator expression** that **yields the index** i for each odd value v."
   ]
  },
  {
   "cell_type": "code",
   "execution_count": 6,
   "id": "3b35f7fd-c539-414c-8eed-6a29a728aa98",
   "metadata": {},
   "outputs": [
    {
     "data": {
      "text/plain": [
       "3"
      ]
     },
     "execution_count": 6,
     "metadata": {},
     "output_type": "execute_result"
    }
   ],
   "source": [
    "odd_one_a([2,4,6,7,10])"
   ]
  },
  {
   "cell_type": "code",
   "execution_count": 7,
   "id": "d2d9c706-daa4-4eb1-89bb-ceb7f6a280b1",
   "metadata": {},
   "outputs": [
    {
     "data": {
      "text/plain": [
       "3"
      ]
     },
     "execution_count": 7,
     "metadata": {},
     "output_type": "execute_result"
    }
   ],
   "source": [
    "odd_one_b([2,4,6,7,10])"
   ]
  },
  {
   "cell_type": "code",
   "execution_count": 8,
   "id": "b2e03435-30ab-49dd-b4eb-a5446a9a9df4",
   "metadata": {},
   "outputs": [
    {
     "data": {
      "text/plain": [
       "3"
      ]
     },
     "execution_count": 8,
     "metadata": {},
     "output_type": "execute_result"
    }
   ],
   "source": [
    "odd_one_c([2,4,6,7,10])"
   ]
  },
  {
   "cell_type": "markdown",
   "id": "df1c7859-a98c-458f-bf3f-6316b1144739",
   "metadata": {},
   "source": [
    "### Problem 2: Sum of Digits / Digital Root"
   ]
  },
  {
   "cell_type": "markdown",
   "id": "e75958d6-338d-461c-b451-de97de534d39",
   "metadata": {},
   "source": [
    "Digital root is the **recursive sum of all the digits** in a number. <br>\n",
    "<br>\n",
    "Given n, take the sum of the digits of n. If that value has more than one digit, continue reducing in this way until a single-digit number is produced. The input will be a non-negative integer.\n",
    "\n",
    "#### Examples:\n",
    "- 16  -->  1 + 6 = 7\n",
    "- 942  -->  9 + 4 + 2 = 15  -->  1 + 5 = 6\n",
    "- 132189  -->  1 + 3 + 2 + 1 + 8 + 9 = 24  -->  2 + 4 = 6\n",
    "- 493193  -->  4 + 9 + 3 + 1 + 9 + 3 = 29  -->  2 + 9 = 11  -->  1 + 1 = 2"
   ]
  },
  {
   "cell_type": "markdown",
   "id": "1eb1aa78-051b-4d6e-abec-e3e3c5236aac",
   "metadata": {},
   "source": [
    "##### My solution:"
   ]
  },
  {
   "cell_type": "code",
   "execution_count": 10,
   "id": "f90ef30d-9dae-4c9f-bd43-836ddeb08c4d",
   "metadata": {},
   "outputs": [],
   "source": [
    "def digital_root_a(n):\n",
    "    n = str(n)\n",
    "    total = 0\n",
    "    for digit in n:\n",
    "        total += int(digit)\n",
    "    if len(str(total))>1:\n",
    "        return digital_root(total)\n",
    "    else: \n",
    "        return total"
   ]
  },
  {
   "cell_type": "markdown",
   "id": "e00a5f25-6164-4334-8b21-fa5c46ddf478",
   "metadata": {},
   "source": [
    "Solution similar to mine, but with slightly better formatting: "
   ]
  },
  {
   "cell_type": "code",
   "execution_count": 11,
   "id": "b7990f73-e585-4c91-a4ff-4e6ec6804960",
   "metadata": {},
   "outputs": [],
   "source": [
    "def digital_root_ab(n):\n",
    "    root = 0\n",
    "    for d in str(n):\n",
    "        root += int(d)\n",
    "    if len(str(root)) > 1:\n",
    "        root = digital_root(root)\n",
    "    return root"
   ]
  },
  {
   "cell_type": "markdown",
   "id": "97c9370a-7ded-41c4-b7e1-f89a03a3915d",
   "metadata": {},
   "source": [
    "Solution was labeled as \"clever\", but additional explanation would be beneficial:"
   ]
  },
  {
   "cell_type": "code",
   "execution_count": 14,
   "id": "f39f6fc5-a015-46de-a5b9-464cc4d7ce35",
   "metadata": {},
   "outputs": [],
   "source": [
    "def digital_root_c(n):\n",
    "\treturn n%9 or n and 9 \n",
    "# n % 9: the result is in range from 0 to 8. \n",
    "# OR operator will be evaluated only if n % 9 == 0\n",
    "# if n != 0, the expression n and 9 will evaluate to 9"
   ]
  },
  {
   "cell_type": "markdown",
   "id": "f419ca83-fc93-4272-999a-1031d04e1e97",
   "metadata": {},
   "source": [
    "Solution that is **shortest** and encompasses **best practices**:"
   ]
  },
  {
   "cell_type": "markdown",
   "id": "ce6d6da6-945e-41f8-a1c0-9e699d886e83",
   "metadata": {},
   "source": [
    "##### Logic of the optimal approach:\n",
    "- If n is less than 10, return n.\n",
    " - If n is 10 or greater, convert n to a string, map each character back to an integer, sum these integers, and recursively call digital_root with the resulting sum."
   ]
  },
  {
   "cell_type": "code",
   "execution_count": 13,
   "id": "e2ac083a-7ff0-4bc0-867a-680ea1c9196d",
   "metadata": {},
   "outputs": [],
   "source": [
    "def digital_root_d(n):\n",
    "    return n if n < 10 else digital_root(sum(map(int,str(n))))"
   ]
  },
  {
   "cell_type": "markdown",
   "id": "f710f27f-cccd-4069-944a-ecd74edfd710",
   "metadata": {},
   "source": [
    "### Problem 3: Detect Pangram"
   ]
  },
  {
   "cell_type": "markdown",
   "id": "53ab4255-ce75-4253-b866-f648268c72f0",
   "metadata": {},
   "source": [
    "A **pangram** is a sentence that **contains every single letter** of the alphabet at least once. For example, the sentence \"The quick brown fox jumps over the lazy dog\" is a pangram, because it uses the letters A-Z at least once (case is irrelevant).\n",
    "\n",
    "Given a string, detect whether or not it is a pangram. Return True if it is, False if not. Ignore numbers and punctuation."
   ]
  },
  {
   "cell_type": "markdown",
   "id": "131606d5-8a58-4fb7-b59e-dc43738b0e18",
   "metadata": {},
   "source": [
    "Both solutions are mine:"
   ]
  },
  {
   "cell_type": "code",
   "execution_count": 15,
   "id": "ee421ce2-9f30-413d-9e79-ef86ee9c7150",
   "metadata": {},
   "outputs": [],
   "source": [
    "def is_pangram(st):\n",
    "    alphabet = 'ABCDEFGHIJKLMNOPQRSTUVWXYZ'.lower()\n",
    "    for letter in alphabet:\n",
    "        if letter not in st.lower():\n",
    "            return False\n",
    "    return True"
   ]
  },
  {
   "cell_type": "code",
   "execution_count": 16,
   "id": "d2de37c4-59e5-4a72-ab47-0d8cb07d9544",
   "metadata": {},
   "outputs": [
    {
     "data": {
      "text/plain": [
       "True"
      ]
     },
     "execution_count": 16,
     "metadata": {},
     "output_type": "execute_result"
    }
   ],
   "source": [
    "is_pangram(\"The quick brown fox jumps over the lazy dog.\")"
   ]
  },
  {
   "cell_type": "code",
   "execution_count": 17,
   "id": "d3d2fdc7-5ed1-47c1-ab11-8e44b32025b2",
   "metadata": {},
   "outputs": [
    {
     "data": {
      "text/plain": [
       "True"
      ]
     },
     "execution_count": 17,
     "metadata": {},
     "output_type": "execute_result"
    }
   ],
   "source": [
    "is_pangram( \"Cwm fjord bank glyphs vext quiz\")"
   ]
  },
  {
   "cell_type": "code",
   "execution_count": 18,
   "id": "fa32b88b-c5e6-4d4f-ab04-c9e251554e63",
   "metadata": {},
   "outputs": [
    {
     "data": {
      "text/plain": [
       "True"
      ]
     },
     "execution_count": 18,
     "metadata": {},
     "output_type": "execute_result"
    }
   ],
   "source": [
    "is_pangram(\"Pack my box with five dozen liquor jugs.\")"
   ]
  },
  {
   "cell_type": "code",
   "execution_count": 19,
   "id": "a0ff0dbc-12e9-4d79-a6de-06049ac71a5b",
   "metadata": {},
   "outputs": [
    {
     "data": {
      "text/plain": [
       "False"
      ]
     },
     "execution_count": 19,
     "metadata": {},
     "output_type": "execute_result"
    }
   ],
   "source": [
    "is_pangram(\"Pack my box with five liquor jugs.\")"
   ]
  },
  {
   "cell_type": "code",
   "execution_count": 27,
   "id": "e5285eaf-a65c-4b11-b923-99dd47f7fe96",
   "metadata": {},
   "outputs": [],
   "source": [
    "def is_pangram2(s):\n",
    "    alphabet = set('abcdefghijklmnopqrstuvwxyz')\n",
    "    return True if alphabet.intersection(set(s.lower())) == alphabet else False"
   ]
  },
  {
   "cell_type": "code",
   "execution_count": 28,
   "id": "25ff851e-34fe-4d25-a392-5b56c30643c5",
   "metadata": {},
   "outputs": [
    {
     "data": {
      "text/plain": [
       "True"
      ]
     },
     "execution_count": 28,
     "metadata": {},
     "output_type": "execute_result"
    }
   ],
   "source": [
    "is_pangram2(\"The quick brown fox jumps over the lazy dog.\")"
   ]
  },
  {
   "cell_type": "code",
   "execution_count": 29,
   "id": "22f7efcc-8600-4922-8371-87d2022e91df",
   "metadata": {},
   "outputs": [
    {
     "data": {
      "text/plain": [
       "True"
      ]
     },
     "execution_count": 29,
     "metadata": {},
     "output_type": "execute_result"
    }
   ],
   "source": [
    "is_pangram2( \"Cwm fjord bank glyphs vext quiz\")"
   ]
  },
  {
   "cell_type": "code",
   "execution_count": 30,
   "id": "723c4361-0597-41b2-ba2a-efdff37264e3",
   "metadata": {},
   "outputs": [
    {
     "data": {
      "text/plain": [
       "True"
      ]
     },
     "execution_count": 30,
     "metadata": {},
     "output_type": "execute_result"
    }
   ],
   "source": [
    "is_pangram2(\"Pack my box with five dozen liquor jugs.\")"
   ]
  },
  {
   "cell_type": "code",
   "execution_count": 31,
   "id": "032ed551-9f0f-42f1-8526-148a4cf8c4d8",
   "metadata": {},
   "outputs": [
    {
     "data": {
      "text/plain": [
       "False"
      ]
     },
     "execution_count": 31,
     "metadata": {},
     "output_type": "execute_result"
    }
   ],
   "source": [
    "is_pangram2(\"Pack my box with five liquor jugs.\")"
   ]
  },
  {
   "cell_type": "markdown",
   "id": "77025ce1-b153-4ef3-ae40-a1a819d4a561",
   "metadata": {},
   "source": [
    "### Problem 4: Is this a triangle?"
   ]
  },
  {
   "cell_type": "markdown",
   "id": "93f1a096-770a-4929-a9ee-5d04d91e924a",
   "metadata": {},
   "source": [
    "Implement a function that accepts 3 integer values a, b, c. The function should return true if a **triangle can be built** with the sides of given length and false in any other case.\n",
    "\n",
    "(In this case, all triangles must have surface greater than 0 to be accepted).\n",
    "\n",
    "Examples:\n",
    "\n",
    "Input -> Output\n",
    "- 1,2,2 -> true\n",
    "- 4,2,3 -> true\n",
    "- 2,2,2 -> true\n",
    "- 1,2,3 -> false\n",
    "- -5,1,3 -> false (has negative)\n",
    "- 0,2,3 -> false (has zero)\n",
    "- 1,2,9 -> false "
   ]
  },
  {
   "cell_type": "markdown",
   "id": "3a6c3858-db77-43dd-986a-38b326ee5552",
   "metadata": {},
   "source": [
    "##### Logic:\n",
    "The triangle **inequality theorem** describes the relationship between the three sides of a triangle. According to this theorem, for any triangle, the **sum of lengths of two sides is always greater than the third side**."
   ]
  },
  {
   "cell_type": "code",
   "execution_count": 32,
   "id": "3bdaddd4-2ef3-4943-800b-9ca1e04d35f2",
   "metadata": {},
   "outputs": [],
   "source": [
    "def is_triangle(a, b, c):\n",
    "    return True if (a + b > c) and (a + c > b) and (b + c > a) else False"
   ]
  },
  {
   "cell_type": "code",
   "execution_count": 33,
   "id": "272b02d1-f443-4072-b1a0-75c48202b32c",
   "metadata": {},
   "outputs": [
    {
     "data": {
      "text/plain": [
       "True"
      ]
     },
     "execution_count": 33,
     "metadata": {},
     "output_type": "execute_result"
    }
   ],
   "source": [
    "is_triangle(1,2,2)"
   ]
  },
  {
   "cell_type": "code",
   "execution_count": 34,
   "id": "097703c3-ed92-4dec-982d-192822521784",
   "metadata": {},
   "outputs": [
    {
     "data": {
      "text/plain": [
       "False"
      ]
     },
     "execution_count": 34,
     "metadata": {},
     "output_type": "execute_result"
    }
   ],
   "source": [
    "is_triangle(-5,1,3)"
   ]
  },
  {
   "cell_type": "markdown",
   "id": "0a48f1d7-b292-4887-bca6-a3c52e0a5a20",
   "metadata": {},
   "source": [
    "### Problem 5: Shortest Word"
   ]
  },
  {
   "cell_type": "markdown",
   "id": "99f265f9-bfde-43dc-8c9d-ebd3f60eeb3f",
   "metadata": {},
   "source": [
    "Simple, given a string of words, return the length of the shortest word(s).\n",
    "\n",
    "String will never be empty and you do not need to account for different data types.\n"
   ]
  },
  {
   "cell_type": "code",
   "execution_count": 35,
   "id": "4b031ba7-f2bd-42b8-8542-5c086e362e5e",
   "metadata": {},
   "outputs": [],
   "source": [
    "def find_short(s):\n",
    "    return sorted([len(word) for word in s.split()])[0]"
   ]
  },
  {
   "cell_type": "code",
   "execution_count": 36,
   "id": "e444f967-f1f8-4146-8f8b-824f3787a300",
   "metadata": {},
   "outputs": [
    {
     "data": {
      "text/plain": [
       "3"
      ]
     },
     "execution_count": 36,
     "metadata": {},
     "output_type": "execute_result"
    }
   ],
   "source": [
    "find_short(\"bitcoin take over the world maybe who knows perhaps\")"
   ]
  },
  {
   "cell_type": "code",
   "execution_count": 37,
   "id": "dd7b5ce7-922f-4177-9aca-2de6baed3b50",
   "metadata": {},
   "outputs": [
    {
     "data": {
      "text/plain": [
       "2"
      ]
     },
     "execution_count": 37,
     "metadata": {},
     "output_type": "execute_result"
    }
   ],
   "source": [
    "find_short(\"Let's travel abroad shall we\")"
   ]
  },
  {
   "cell_type": "markdown",
   "id": "317ce819-1b9e-48be-8b73-3076d9dd1d42",
   "metadata": {},
   "source": [
    "### Problem 6: Valid Parenthesis"
   ]
  },
  {
   "cell_type": "markdown",
   "id": "ef2aa6d8-7a75-4911-a700-7d6be5778079",
   "metadata": {},
   "source": [
    "Write a function that takes a string of parentheses, and determines if the **order of the parentheses is valid**. The function should return true if the string is valid, and false if it's invalid.\n",
    "\n",
    "Examples\n",
    "\n",
    "- \"()\"              =>  true\n",
    "- \")(()))\"          =>  false\n",
    "- \"(\"               =>  false\n",
    "- \"(())((()())())\"  =>  true"
   ]
  },
  {
   "cell_type": "markdown",
   "id": "b10865d5-c31e-4e72-99b3-c46d4b1a6485",
   "metadata": {},
   "source": [
    "##### Logic:\n",
    "The function uses a stack-like approach, where *tracker* keeps track of unmatched opening parenthesis. <br>\n",
    "As it iterates through the input string, it **appends opening parentheses** to the tracker and **pops** from it when it encounters a closing parenthesis. If at any point a closing parenthesis does not match an opening one, or if there are unmatched opening parentheses left in the tracker at the end, the function returns False. Otherwise, it returns True."
   ]
  },
  {
   "cell_type": "markdown",
   "id": "6a05139a-74ba-4b6d-9edf-cd28a7f86ed7",
   "metadata": {},
   "source": [
    "This solution comes from YouTube. It's lengthy, but if we need to solve for different kinds of brackets, it's easy to modify it."
   ]
  },
  {
   "cell_type": "code",
   "execution_count": 81,
   "id": "0410e087-b1a1-43cc-9418-52e7ccf57f69",
   "metadata": {},
   "outputs": [],
   "source": [
    "def valid_parentheses(paren_str):\n",
    "    tracker = []\n",
    "    for bracket in paren_str:\n",
    "        if bracket == '(':\n",
    "            tracker.append(bracket)\n",
    "        else:\n",
    "            if not tracker:\n",
    "                return False\n",
    "            current_bracket = tracker.pop()\n",
    "            if current_bracket == '(': # this code block can be copied and re-written for other kinds of brackets\n",
    "                if bracket != ')':\n",
    "                    return False\n",
    "    if tracker:\n",
    "        return False\n",
    "    else:\n",
    "        return True\n",
    "           \n",
    "           \n"
   ]
  },
  {
   "cell_type": "code",
   "execution_count": 82,
   "id": "6a893456-19a1-414a-bb57-d718058335da",
   "metadata": {},
   "outputs": [
    {
     "data": {
      "text/plain": [
       "False"
      ]
     },
     "execution_count": 82,
     "metadata": {},
     "output_type": "execute_result"
    }
   ],
   "source": [
    "valid_parentheses(\")(()))\")"
   ]
  },
  {
   "cell_type": "code",
   "execution_count": 83,
   "id": "52c7bb22-cc2e-4f9a-8510-fbebd5c44492",
   "metadata": {},
   "outputs": [
    {
     "data": {
      "text/plain": [
       "True"
      ]
     },
     "execution_count": 83,
     "metadata": {},
     "output_type": "execute_result"
    }
   ],
   "source": [
    "valid_parentheses(\"(())((()())())\")"
   ]
  },
  {
   "cell_type": "code",
   "execution_count": 84,
   "id": "6fcfcb78-8244-4e4b-85bf-a4c00030ba70",
   "metadata": {},
   "outputs": [
    {
     "data": {
      "text/plain": [
       "True"
      ]
     },
     "execution_count": 84,
     "metadata": {},
     "output_type": "execute_result"
    }
   ],
   "source": [
    "valid_parentheses(\"()\")"
   ]
  },
  {
   "cell_type": "markdown",
   "id": "0bacc7f7-32ef-4068-920a-c5985e834e84",
   "metadata": {},
   "source": [
    "**CodePal** suggested the improvement:"
   ]
  },
  {
   "cell_type": "markdown",
   "id": "a7954076-8527-4b01-8f4a-af2a479c68bf",
   "metadata": {},
   "source": [
    "Input validation was added and code was shortened."
   ]
  },
  {
   "cell_type": "code",
   "execution_count": 85,
   "id": "d58ea04b-6c63-4192-8541-4789f8587ed5",
   "metadata": {},
   "outputs": [],
   "source": [
    "def valid_parentheses2(paren_str):\n",
    "    if not isinstance(paren_str, str):\n",
    "        raise ValueError(\"Input must be a string.\")\n",
    "\n",
    "    stack = []\n",
    "    for bracket in paren_str:\n",
    "        if bracket == '(':\n",
    "            stack.append(bracket)\n",
    "        elif bracket == ')':\n",
    "            if not stack:\n",
    "                return False\n",
    "            stack.pop()\n",
    "\n",
    "    return not stack"
   ]
  },
  {
   "cell_type": "code",
   "execution_count": 86,
   "id": "71a51a9f-e7bb-45ae-86a5-67239c7f5458",
   "metadata": {},
   "outputs": [
    {
     "data": {
      "text/plain": [
       "False"
      ]
     },
     "execution_count": 86,
     "metadata": {},
     "output_type": "execute_result"
    }
   ],
   "source": [
    "valid_parentheses2(\")(()))\")"
   ]
  },
  {
   "cell_type": "code",
   "execution_count": 87,
   "id": "77b38887-b576-4d13-aa00-2438c218bccb",
   "metadata": {},
   "outputs": [
    {
     "data": {
      "text/plain": [
       "True"
      ]
     },
     "execution_count": 87,
     "metadata": {},
     "output_type": "execute_result"
    }
   ],
   "source": [
    "valid_parentheses2(\"(())((()())())\")"
   ]
  },
  {
   "cell_type": "markdown",
   "id": "3554cc79-423a-4fee-bd5c-4a2e77a5e702",
   "metadata": {},
   "source": [
    "##### Some shorter solutions from CodeWars:"
   ]
  },
  {
   "cell_type": "markdown",
   "id": "d037112b-04cf-439c-9fcd-173a4c183970",
   "metadata": {},
   "source": [
    "##### Logic:\n",
    "- A while loop checks if the substring '()' exists in x.\n",
    "- If it does, it replaces all occurrences of '()' with an empty string.\n",
    "- After all pairs are removed, the function checks if the modified string x is empty. If it is, the function returns True, indicating valid parentheses; otherwise, it returns False."
   ]
  },
  {
   "cell_type": "code",
   "execution_count": 88,
   "id": "3872cd1a-4274-40be-bfba-6380c4b8b87a",
   "metadata": {},
   "outputs": [],
   "source": [
    "def valid_parentheses3(x):\n",
    "    while \"()\" in x:\n",
    "        x = x.replace(\"()\", \"\")\n",
    "    return x == \"\""
   ]
  },
  {
   "cell_type": "code",
   "execution_count": 89,
   "id": "e40b07cb-ec59-4712-99b9-23793ed09fb2",
   "metadata": {},
   "outputs": [
    {
     "data": {
      "text/plain": [
       "False"
      ]
     },
     "execution_count": 89,
     "metadata": {},
     "output_type": "execute_result"
    }
   ],
   "source": [
    "valid_parentheses3(\")(()))\")"
   ]
  },
  {
   "cell_type": "code",
   "execution_count": 90,
   "id": "2d30482a-2c50-4079-b96d-f8e7629d431f",
   "metadata": {},
   "outputs": [
    {
     "data": {
      "text/plain": [
       "True"
      ]
     },
     "execution_count": 90,
     "metadata": {},
     "output_type": "execute_result"
    }
   ],
   "source": [
    "valid_parentheses3(\"(())((()())())\")"
   ]
  },
  {
   "cell_type": "markdown",
   "id": "df462f06-0efa-452e-8caf-ace6a67cfc61",
   "metadata": {},
   "source": [
    "Another solution - **super simple**:"
   ]
  },
  {
   "cell_type": "markdown",
   "id": "61ed7b39-392d-4758-9938-92c47dc9aba2",
   "metadata": {},
   "source": [
    "##### Logic:\n",
    "- The function iterates through each character in the array.\n",
    "- It increments count for each '(' and decrements it for each ')' if count is greater than zero.\n",
    "- If a ')' is encountered when count is zero, it indicates an unmatched closing parenthesis, and the function returns False.\n",
    "- At the end of the iteration, if count is zero, it returns True, indicating a valid sequence; otherwise, it returns False."
   ]
  },
  {
   "cell_type": "code",
   "execution_count": 91,
   "id": "8c4a5a0d-b05f-4c67-8a1d-e8aa0f26f8b8",
   "metadata": {},
   "outputs": [],
   "source": [
    "def valid_parentheses4(array):\n",
    "    count = 0\n",
    "    for item in array:\n",
    "        if item == '(':\n",
    "            count += 1\n",
    "        elif count:\n",
    "            count -= 1\n",
    "        else:\n",
    "            return False\n",
    "    return count == 0"
   ]
  },
  {
   "cell_type": "code",
   "execution_count": 92,
   "id": "1ad8445a-a0ab-4c4d-9108-b04e9b06aa5b",
   "metadata": {},
   "outputs": [
    {
     "data": {
      "text/plain": [
       "False"
      ]
     },
     "execution_count": 92,
     "metadata": {},
     "output_type": "execute_result"
    }
   ],
   "source": [
    "valid_parentheses4(\")(()))\")"
   ]
  },
  {
   "cell_type": "code",
   "execution_count": 93,
   "id": "69c204ac-0aaf-4c86-8a9c-ea13eb56da7e",
   "metadata": {},
   "outputs": [
    {
     "data": {
      "text/plain": [
       "True"
      ]
     },
     "execution_count": 93,
     "metadata": {},
     "output_type": "execute_result"
    }
   ],
   "source": [
    "valid_parentheses4(\"(())((()())())\")"
   ]
  },
  {
   "cell_type": "markdown",
   "id": "3b78d375-a119-4e8c-ac8a-306db8d6d750",
   "metadata": {},
   "source": [
    "### Problem 7: Count the smiley faces"
   ]
  },
  {
   "cell_type": "markdown",
   "id": "bad2d1cb-3391-46b0-97b5-3a2097c4189c",
   "metadata": {},
   "source": [
    "Given an array (arr) as an argument complete the function countSmileys that should return the total number of smiling faces.\n",
    "\n",
    "Rules for a smiling face:\n",
    "\n",
    "Each smiley face must contain a **valid pair of eyes**. Eyes can be marked as **: or ;**\n",
    "A smiley face **can have a nose** but it does not have to. Valid characters for a nose are **- or ~**\n",
    "Every smiling face **must have a smiling mouth** that should be marked with either **) or D**\n",
    "No additional characters are allowed except for those mentioned.\n",
    "\n",
    "**Valid smiley face** examples: :) :D ;-D :~)\n",
    "Invalid smiley faces:  ;( :> :} :]\n",
    "\n",
    "Example:\n",
    "\n",
    "- countSmileys([':)', ';(', ';}', ':-D']);       // should return 2;\n",
    "- countSmileys([';D', ':-(', ':-)', ';~)']);     // should return 3;\n",
    "- countSmileys([';]', ':[', ';*', ':$', ';-D']); // should return 1;"
   ]
  },
  {
   "cell_type": "markdown",
   "id": "a42e096b-542d-4723-9019-df2e4f08ceea",
   "metadata": {},
   "source": [
    "##### Regex Syntax:\n",
    "- Raw String Literal: The prefix r indicates that the string is a **raw string**, meaning that backslashes are treated literally and not as escape characters.\n",
    "- Regular Expression Pattern: The pattern [:;][-~]?[)D] consists of several parts:\n",
    "    - [:;]: Matches either a colon : or a semicolon ;, which are commonly used as eyes in emoticons.\n",
    "    - [-~]?: Matches an **optional character** that can be a hyphen - or a tilde ~, which may represent a nose in emoticons.\n",
    "    - [)D]: Matches either a closing parenthesis ) or a capital letter D, which represent a smile or a big grin."
   ]
  },
  {
   "cell_type": "code",
   "execution_count": 95,
   "id": "3ef93415-2a2b-4951-acc1-9476f3405d09",
   "metadata": {},
   "outputs": [],
   "source": [
    "import re\n",
    "\n",
    "def count_smileys(arr):\n",
    "    smiley_pattern = r'[:;][-~]?[)D]'\n",
    "    count = 0\n",
    "    for item in arr:\n",
    "        if re.match(smiley_pattern, item):\n",
    "            count += 1\n",
    "    return count"
   ]
  },
  {
   "cell_type": "code",
   "execution_count": 96,
   "id": "18f82fa2-1e59-4750-b206-a932e1edc4f4",
   "metadata": {},
   "outputs": [
    {
     "data": {
      "text/plain": [
       "4"
      ]
     },
     "execution_count": 96,
     "metadata": {},
     "output_type": "execute_result"
    }
   ],
   "source": [
    "count_smileys([':D',':~)',';~D',':)'])"
   ]
  },
  {
   "cell_type": "code",
   "execution_count": 97,
   "id": "5c52d6fd-e851-4594-a03d-be875e33e3e7",
   "metadata": {},
   "outputs": [
    {
     "data": {
      "text/plain": [
       "2"
      ]
     },
     "execution_count": 97,
     "metadata": {},
     "output_type": "execute_result"
    }
   ],
   "source": [
    "count_smileys([':)',':(',':D',':O',':;'])"
   ]
  },
  {
   "cell_type": "markdown",
   "id": "60aafa51-843f-4383-8b47-412b3636c487",
   "metadata": {},
   "source": [
    "To avoid regex:"
   ]
  },
  {
   "cell_type": "code",
   "execution_count": 98,
   "id": "f33c7cc2-dec4-43ae-b8ea-2fae92cc566c",
   "metadata": {},
   "outputs": [],
   "source": [
    "def count_smileys2(arr):\n",
    "    total = 0\n",
    "    eyes = ':;'\n",
    "    nose = '-~'\n",
    "    mouth = ')D'\n",
    "    for char in arr:\n",
    "\n",
    "        if len(char) == 3:\n",
    "            if char[0] in eyes and char[1] in nose and char[2] in mouth:\n",
    "                total += 1\n",
    "\n",
    "        elif len(char) == 2:\n",
    "            if char[0] in eyes and char[1] in mouth:\n",
    "                total += 1\n",
    "    return total"
   ]
  },
  {
   "cell_type": "code",
   "execution_count": 99,
   "id": "b31ce980-d05b-448d-b6fa-c70f9d6534c4",
   "metadata": {},
   "outputs": [
    {
     "data": {
      "text/plain": [
       "4"
      ]
     },
     "execution_count": 99,
     "metadata": {},
     "output_type": "execute_result"
    }
   ],
   "source": [
    "count_smileys2([':D',':~)',';~D',':)'])"
   ]
  },
  {
   "cell_type": "code",
   "execution_count": 100,
   "id": "8dc24e0e-f071-4fd2-b8ce-fdbc09b42bcd",
   "metadata": {},
   "outputs": [],
   "source": [
    "def count_smileys3(arr):\n",
    "    eyes = [\":\", \";\"]\n",
    "    noses = [\"\", \"-\", \"~\"]\n",
    "    mouths = [\")\", \"D\"]\n",
    "    count = 0\n",
    "    for eye in eyes:\n",
    "        for nose in noses:\n",
    "            for mouth in mouths:\n",
    "                face = eye + nose + mouth\n",
    "                count += arr.count(face)\n",
    "    return count"
   ]
  },
  {
   "cell_type": "code",
   "execution_count": 101,
   "id": "ddc25cd1-002d-4ca2-a1f7-3300a8f3f9b5",
   "metadata": {},
   "outputs": [
    {
     "data": {
      "text/plain": [
       "4"
      ]
     },
     "execution_count": 101,
     "metadata": {},
     "output_type": "execute_result"
    }
   ],
   "source": [
    "count_smileys3([':D',':~)',';~D',':)'])"
   ]
  },
  {
   "cell_type": "markdown",
   "id": "64d14534-7be5-4fe3-ae6e-336574911fc9",
   "metadata": {},
   "source": [
    "### SQL Class Notes:\n",
    "ERD = entity relation diagram. When we design a database, we use it to layout the design of the DB. We define tables and their columns and all the connections between the tables. <br>\n",
    "DBMS = database management system. Software with UI allowing to interact with data stored in database\n",
    "DDL = data definition language\n",
    "DML = data manipulation language (select, insert, update, delete)\n",
    "DCL = data control language (admin privileges: revoke, grant)\n",
    "TCL = transaction control language, controlled by admins (goal: minimize data loss)"
   ]
  },
  {
   "cell_type": "markdown",
   "id": "1da81b75-b0dd-4ba1-b3ad-4849e89f8b3b",
   "metadata": {},
   "source": [
    "Normalization: goal is to minimize redundancy and minimize anomalies while establishing relations between tables"
   ]
  },
  {
   "cell_type": "markdown",
   "id": "637b888b-b173-4ace-a176-1b531ba958dd",
   "metadata": {},
   "source": [
    "Data integrity: correctness and consistecy of data. Rules (constraints) that apply to columns (fields) are called procedures, they ensure relevance. \n",
    "Auto-incrementation: indexing that occurs automatically"
   ]
  },
  {
   "cell_type": "markdown",
   "id": "48a7d379-20a7-4b3c-9514-df6246addb20",
   "metadata": {},
   "source": [
    "ETL: extract , transform, load"
   ]
  },
  {
   "cell_type": "markdown",
   "id": "2a7ffbe4-3c30-4e57-a613-e5960b130656",
   "metadata": {},
   "source": [
    "Difference between **char** and **varchar**:\n",
    "- char is of a fixed length, e.g. char(5) is always 5 in length, and varchar(5) can be anywhere between 1 and 5\n",
    "- char is always a letter (string) and varchar can store letters, numbers and symbols"
   ]
  },
  {
   "cell_type": "markdown",
   "id": "85720601-053b-48fd-ac6d-031058ed00a5",
   "metadata": {},
   "source": [
    "PIVOT vs. GROUP BY:\n",
    "- pivot gives more control on the results displayed"
   ]
  },
  {
   "cell_type": "markdown",
   "id": "2f7b4958-628f-4269-8a9a-4dabb201452b",
   "metadata": {},
   "source": [
    "### Problem 8: Find the missing letter"
   ]
  },
  {
   "cell_type": "markdown",
   "id": "a49944fb-f511-4e0e-a310-7d0609b86c0f",
   "metadata": {},
   "source": [
    "Write a method that takes an array of consecutive (increasing) letters as input and that returns the missing letter in the array.\n",
    "\n",
    "You will always get an valid array. And it will be always exactly one letter be missing. The length of the array will always be at least 2.\n",
    "The array will always contain letters in only one case.\n",
    "\n",
    "Example:\n",
    "\n",
    "- ['a','b','c','d','f'] -> 'e'\n",
    "- ['O','Q','R','S'] -> 'P'"
   ]
  },
  {
   "cell_type": "markdown",
   "id": "e47d5a96-274c-4735-9ffb-802e1868606f",
   "metadata": {},
   "source": [
    "##### Methodology:\n",
    "- Mapping is needed for sequencing problems: e.g. dictionary comprehension - fastest:"
   ]
  },
  {
   "cell_type": "code",
   "execution_count": 103,
   "id": "c55b5359-1ac0-41dc-bf2a-b1902e781261",
   "metadata": {},
   "outputs": [
    {
     "data": {
      "text/plain": [
       "{'a': 0,\n",
       " 'b': 1,\n",
       " 'c': 2,\n",
       " 'd': 3,\n",
       " 'e': 4,\n",
       " 'f': 5,\n",
       " 'g': 6,\n",
       " 'h': 7,\n",
       " 'i': 8,\n",
       " 'j': 9,\n",
       " 'k': 10,\n",
       " 'l': 11,\n",
       " 'm': 12,\n",
       " 'n': 13,\n",
       " 'o': 14,\n",
       " 'p': 15,\n",
       " 'q': 16,\n",
       " 'r': 17,\n",
       " 's': 18,\n",
       " 't': 19,\n",
       " 'u': 20,\n",
       " 'v': 21,\n",
       " 'w': 22,\n",
       " 'x': 23,\n",
       " 'y': 24,\n",
       " 'z': 25}"
      ]
     },
     "execution_count": 103,
     "metadata": {},
     "output_type": "execute_result"
    }
   ],
   "source": [
    "import string\n",
    "chars = ['b','c','d','f','g']\n",
    "mapping = {value:index for index,value in enumerate(string.ascii_lowercase)}\n",
    "mapping"
   ]
  },
  {
   "cell_type": "markdown",
   "id": "87410056-78e9-46b5-a809-3075658cc765",
   "metadata": {},
   "source": [
    "- Initiate the start an end of the inpout string as a tuple:"
   ]
  },
  {
   "cell_type": "code",
   "execution_count": 104,
   "id": "1e1f1c29-6c43-4d5f-b379-385cf5787ebd",
   "metadata": {},
   "outputs": [
    {
     "data": {
      "text/plain": [
       "('b', 'g')"
      ]
     },
     "execution_count": 104,
     "metadata": {},
     "output_type": "execute_result"
    }
   ],
   "source": [
    "start,end = chars[0],chars[-1]\n",
    "start,end"
   ]
  },
  {
   "cell_type": "markdown",
   "id": "3242ce06-f9cb-45d6-8f33-04520ebaa61a",
   "metadata": {},
   "source": [
    "To get the string without missing values beginning at \"start\" and ending at \"end\":"
   ]
  },
  {
   "cell_type": "code",
   "execution_count": 105,
   "id": "76bb7b1e-5c95-488a-a83f-52ffc39074f5",
   "metadata": {},
   "outputs": [
    {
     "data": {
      "text/plain": [
       "['b', 'c', 'd', 'e', 'f', 'g']"
      ]
     },
     "execution_count": 105,
     "metadata": {},
     "output_type": "execute_result"
    }
   ],
   "source": [
    "[i for i in mapping if i >= start and i <=end]"
   ]
  },
  {
   "cell_type": "markdown",
   "id": "ae0078ba-d514-4f84-987a-dd27f66e6630",
   "metadata": {},
   "source": [
    "Our input string (with gaps):"
   ]
  },
  {
   "cell_type": "code",
   "execution_count": 106,
   "id": "7abf177f-2119-4f32-b487-29bd44743a3e",
   "metadata": {},
   "outputs": [
    {
     "data": {
      "text/plain": [
       "['b', 'c', 'd', 'f', 'g']"
      ]
     },
     "execution_count": 106,
     "metadata": {},
     "output_type": "execute_result"
    }
   ],
   "source": [
    "chars"
   ]
  },
  {
   "cell_type": "markdown",
   "id": "4b232d70-0159-45bd-9084-57e6f9ed1f08",
   "metadata": {},
   "source": [
    "To get the difference between the strings:"
   ]
  },
  {
   "cell_type": "code",
   "execution_count": 107,
   "id": "09814389-0e47-4fc0-8c42-87512df86cb4",
   "metadata": {},
   "outputs": [
    {
     "data": {
      "text/plain": [
       "['e']"
      ]
     },
     "execution_count": 107,
     "metadata": {},
     "output_type": "execute_result"
    }
   ],
   "source": [
    "[i for i in [i for i in mapping if i >= start and i <=end] if i not in chars]"
   ]
  },
  {
   "cell_type": "code",
   "execution_count": 108,
   "id": "09310524-05d0-4c98-bb98-660767b4398d",
   "metadata": {},
   "outputs": [
    {
     "data": {
      "text/plain": [
       "'e'"
      ]
     },
     "execution_count": 108,
     "metadata": {},
     "output_type": "execute_result"
    }
   ],
   "source": [
    "[i for i in [i for i in mapping if i >= start and i <=end] if i not in chars][0]"
   ]
  },
  {
   "cell_type": "code",
   "execution_count": 120,
   "id": "575788ac-b4cd-4244-93d3-34c8b2e8da67",
   "metadata": {},
   "outputs": [],
   "source": [
    "import string\n",
    "\n",
    "def find_missing_letter(chars):\n",
    "    mapping = {value:index for index,value in enumerate(string.ascii_letters)}\n",
    "    start,end = chars[0],chars[-1]\n",
    "    return [i for i in [i for i in mapping if i >= start and i <=end] if i not in chars][0]"
   ]
  },
  {
   "cell_type": "code",
   "execution_count": 121,
   "id": "5dfb362f-d5f2-4f62-9c01-cce15630740e",
   "metadata": {},
   "outputs": [
    {
     "data": {
      "text/plain": [
       "'e'"
      ]
     },
     "execution_count": 121,
     "metadata": {},
     "output_type": "execute_result"
    }
   ],
   "source": [
    "find_missing_letter(['b', 'c', 'd', 'f', 'g'])"
   ]
  },
  {
   "cell_type": "code",
   "execution_count": 122,
   "id": "ba010e66-19ba-4f48-8ad3-9b086a88e7a2",
   "metadata": {},
   "outputs": [
    {
     "data": {
      "text/plain": [
       "'P'"
      ]
     },
     "execution_count": 122,
     "metadata": {},
     "output_type": "execute_result"
    }
   ],
   "source": [
    "find_missing_letter(['O','Q','R','S'])"
   ]
  },
  {
   "cell_type": "markdown",
   "id": "1ff6ce59-0d35-4c1e-a114-3458d983dbb7",
   "metadata": {},
   "source": [
    "Suggested best practices from CoderPal:"
   ]
  },
  {
   "cell_type": "markdown",
   "id": "ae0da24e-86d0-434c-8fb0-42df279432cf",
   "metadata": {},
   "source": [
    "If the input has no missing values and isn't always alphabetic:"
   ]
  },
  {
   "cell_type": "code",
   "execution_count": 123,
   "id": "751c1854-ff27-47b4-a44b-08defdf71958",
   "metadata": {},
   "outputs": [],
   "source": [
    "import string\n",
    "\n",
    "def find_missing_letter2(chars):\n",
    "    if not chars or not all(c.isalpha() for c in chars):\n",
    "        raise ValueError(\"Input must be a non-empty list of alphabetic characters.\")\n",
    "\n",
    "    mapping = {value: index for index, value in enumerate(string.ascii_letters)}\n",
    "    start, end = chars[0], chars[-1]\n",
    "\n",
    "    for i in range(mapping[start], mapping[end] + 1):\n",
    "        letter = string.ascii_letters[i]\n",
    "        if letter not in chars:\n",
    "            return letter\n",
    "\n",
    "    return None  # Return None if no letter is missing"
   ]
  },
  {
   "cell_type": "markdown",
   "id": "1644fdbc-8c46-4e3a-85b3-e89ae0372087",
   "metadata": {},
   "source": [
    "### Problem 9: Find the unique number"
   ]
  },
  {
   "cell_type": "markdown",
   "id": "6ae611bc-29b8-477e-af1c-c28488f15a8b",
   "metadata": {},
   "source": [
    "There is an array with some numbers. All numbers are equal except for one. Try to find it!\n",
    "\n",
    "- find_uniq([ 1, 1, 1, 2, 1, 1 ]) == 2\n",
    "- find_uniq([ 0, 0, 0.55, 0, 0 ]) == 0.55\n",
    "  \n",
    "It’s guaranteed that array contains at least 3 numbers.\n",
    "\n",
    "The tests contain some very huge arrays, so think about performance.\n",
    "\n"
   ]
  },
  {
   "cell_type": "markdown",
   "id": "42491bdf-f007-40d2-9b33-62bf7605f832",
   "metadata": {},
   "source": [
    "- The following function works for shorter arrays, but may be inefficient for very large arrays:"
   ]
  },
  {
   "cell_type": "code",
   "execution_count": 190,
   "id": "a100006c-6ef9-4fe5-9715-92f8ea015315",
   "metadata": {},
   "outputs": [],
   "source": [
    "def find_uniq(arr):\n",
    "    n = sorted(arr)\n",
    "    if n[0] != n[1]:\n",
    "        return n[0]\n",
    "    else:\n",
    "        return n[-1]"
   ]
  },
  {
   "cell_type": "code",
   "execution_count": 191,
   "id": "091f1037-5849-4ef8-a025-ed32d2c8b708",
   "metadata": {},
   "outputs": [
    {
     "data": {
      "text/plain": [
       "2"
      ]
     },
     "execution_count": 191,
     "metadata": {},
     "output_type": "execute_result"
    }
   ],
   "source": [
    "find_uniq([ 1, 1, 1, 2, 1, 1 ])"
   ]
  },
  {
   "cell_type": "code",
   "execution_count": 192,
   "id": "967a1772-41c0-4b01-931f-ed706a43b463",
   "metadata": {},
   "outputs": [
    {
     "data": {
      "text/plain": [
       "0.55"
      ]
     },
     "execution_count": 192,
     "metadata": {},
     "output_type": "execute_result"
    }
   ],
   "source": [
    "find_uniq([ 0, 0, 0.55, 0, 0 ])"
   ]
  },
  {
   "cell_type": "markdown",
   "id": "861af7b2-2080-4248-81c9-ed969a483165",
   "metadata": {},
   "source": [
    "In addition to that: The use of sorted() introduces a time complexity of **O(n log n)**. For large arrays, this could be a performance bottleneck, especially if the unique element is guaranteed to be at the beginning or end of the sorted array.\n",
    "\n",
    "Instead of sorting the array, a more efficient approach would be to use a **dictionary or a set** to count occurrences of each element, which would reduce the time complexity to **O(n)**."
   ]
  },
  {
   "cell_type": "markdown",
   "id": "310778ff-ddcc-476c-be53-be6aa12e92f1",
   "metadata": {},
   "source": [
    "- Using sets:"
   ]
  },
  {
   "cell_type": "code",
   "execution_count": 198,
   "id": "d9441a5b-33ba-40d0-977b-c2666d11f1c4",
   "metadata": {},
   "outputs": [],
   "source": [
    "def find_uniq_set(arr):\n",
    "    return [x for x in set(arr) if arr.count(x) == 1][0]"
   ]
  },
  {
   "cell_type": "code",
   "execution_count": 199,
   "id": "a3de89a5-171e-4c58-8319-3a0d1e45af1a",
   "metadata": {},
   "outputs": [
    {
     "data": {
      "text/plain": [
       "0.55"
      ]
     },
     "execution_count": 199,
     "metadata": {},
     "output_type": "execute_result"
    }
   ],
   "source": [
    "find_uniq_set([ 0, 0, 0.55, 0, 0 ])"
   ]
  },
  {
   "cell_type": "markdown",
   "id": "4fff9f1d-ccdf-46bb-9a8a-f4b9ffb86ac7",
   "metadata": {},
   "source": [
    "- Using Counter:"
   ]
  },
  {
   "cell_type": "code",
   "execution_count": 185,
   "id": "c4465ee9-9e45-4f5a-b9e8-b30403a4b683",
   "metadata": {},
   "outputs": [],
   "source": [
    "from collections import Counter\n",
    "\n",
    "def find_uniq_a(arr):\n",
    "    counts = Counter(arr)\n",
    "    for num, count in counts.items():\n",
    "        if count == 1:\n",
    "            return num"
   ]
  },
  {
   "cell_type": "code",
   "execution_count": 187,
   "id": "9d7a82c7-638b-48c1-9bac-b45c54ec11ee",
   "metadata": {},
   "outputs": [
    {
     "data": {
      "text/plain": [
       "2"
      ]
     },
     "execution_count": 187,
     "metadata": {},
     "output_type": "execute_result"
    }
   ],
   "source": [
    "find_uniq_a([ 1, 1, 1, 2, 1, 1 ])"
   ]
  },
  {
   "cell_type": "markdown",
   "id": "a0195aa3-6fe0-435c-afa2-a53902b6cdda",
   "metadata": {},
   "source": [
    "- Without using Counter (from CodePal):"
   ]
  },
  {
   "cell_type": "code",
   "execution_count": 188,
   "id": "dbfedb58-544f-4d35-be19-b5e4c4ca098a",
   "metadata": {},
   "outputs": [],
   "source": [
    "def find_uniq_b(arr):\n",
    "    \"\"\"\n",
    "    Find the unique element in an array where all other elements are the same.\n",
    "\n",
    "    Parameters:\n",
    "    arr (list): A list of elements where one element is unique.\n",
    "\n",
    "    Returns:\n",
    "    The unique element in the list.\n",
    "\n",
    "    Raises:\n",
    "    ValueError: If the input list is empty or has fewer than 3 elements.\n",
    "    \"\"\"\n",
    "    if not isinstance(arr, list) or len(arr) < 3:\n",
    "        raise ValueError(\"Input must be a list with at least three elements.\")\n",
    "\n",
    "    counts = {}\n",
    "    for num in arr:\n",
    "        counts[num] = counts.get(num, 0) + 1\n",
    "\n",
    "    for num, count in counts.items():\n",
    "        if count == 1:\n",
    "            return num"
   ]
  },
  {
   "cell_type": "code",
   "execution_count": 189,
   "id": "2303563d-6546-4883-8ff7-74078bb77bf3",
   "metadata": {},
   "outputs": [
    {
     "data": {
      "text/plain": [
       "2"
      ]
     },
     "execution_count": 189,
     "metadata": {},
     "output_type": "execute_result"
    }
   ],
   "source": [
    "find_uniq_b([ 1, 1, 1, 2, 1, 1 ])"
   ]
  },
  {
   "cell_type": "markdown",
   "id": "16a9cb1b-5a90-46e3-aa9f-92d5f11e144d",
   "metadata": {},
   "source": [
    "### Problem 10:Simple Pig Latin"
   ]
  },
  {
   "cell_type": "markdown",
   "id": "d32e03df-eaf3-4e4c-afeb-3e641bdce6b9",
   "metadata": {},
   "source": [
    "Move the first letter of each word to the end of it, then add \"ay\" to the end of the word. Leave punctuation marks untouched.\n",
    "\n",
    "Examples:\n",
    "\n",
    "- pig_it('Pig latin is cool') # igPay atinlay siay oolcay\n",
    "- pig_it('Hello world !')     # elloHay orldway !"
   ]
  },
  {
   "cell_type": "code",
   "execution_count": 202,
   "id": "b9a28311-71e5-40f8-a9cc-ce20af661831",
   "metadata": {},
   "outputs": [],
   "source": [
    "def pig_it(text):\n",
    "    words = text.split()\n",
    "    result = []\n",
    "    for word in words:\n",
    "        if word.isalpha():  # Check if the word is alphabetic\n",
    "            pig_latin_word = word[1:] + word[0] + \"ay\"\n",
    "            result.append(pig_latin_word)\n",
    "        else:\n",
    "            result.append(word)  # Keep non-alphabetic words unchanged\n",
    "    return ' '.join(result)"
   ]
  },
  {
   "cell_type": "code",
   "execution_count": 203,
   "id": "4aa4d62e-6a9f-4adf-9cfb-632c8faadaa7",
   "metadata": {},
   "outputs": [
    {
     "data": {
      "text/plain": [
       "'igPay atinlay siay oolcay'"
      ]
     },
     "execution_count": 203,
     "metadata": {},
     "output_type": "execute_result"
    }
   ],
   "source": [
    "pig_it('Pig latin is cool')"
   ]
  },
  {
   "cell_type": "code",
   "execution_count": 204,
   "id": "07a4c305-9f17-47f2-853d-35316642f9b8",
   "metadata": {},
   "outputs": [
    {
     "data": {
      "text/plain": [
       "'hisTay siay ymay tringsay'"
      ]
     },
     "execution_count": 204,
     "metadata": {},
     "output_type": "execute_result"
    }
   ],
   "source": [
    "pig_it('This is my string')"
   ]
  },
  {
   "cell_type": "code",
   "execution_count": 205,
   "id": "4fb53853-70d3-40dd-bef4-74378c47e4f1",
   "metadata": {},
   "outputs": [],
   "source": [
    "def pig_it2(text):\n",
    "    lst = text.split()\n",
    "    return ' '.join( [word[1:] + word[:1] + 'ay' if word.isalpha() else word for word in lst])"
   ]
  },
  {
   "cell_type": "code",
   "execution_count": 206,
   "id": "06405357-6a84-468e-b2a3-b94f8543cfd7",
   "metadata": {},
   "outputs": [
    {
     "data": {
      "text/plain": [
       "'igPay atinlay siay oolcay'"
      ]
     },
     "execution_count": 206,
     "metadata": {},
     "output_type": "execute_result"
    }
   ],
   "source": [
    "pig_it2('Pig latin is cool')"
   ]
  },
  {
   "cell_type": "markdown",
   "id": "c0eee812-a3d9-43bf-ba3f-4f6acaa7d79e",
   "metadata": {},
   "source": [
    "### HackerRank: Mini-Max Sum"
   ]
  },
  {
   "cell_type": "markdown",
   "id": "ec8cbe59-0ae2-41b7-9be0-304bbcb0f791",
   "metadata": {},
   "source": [
    "Given five positive integers, find the **minimum and maximum values that can be calculated by summing exactly four of the five integers**. Then print the respective minimum and maximum values as a single line of the two space-separated long integers.\n",
    "\n",
    "e.g. arr = [1, 3, 5, 7, 9] <br>\n",
    "The minimum sum is 1 + 3 + 5 + 7 = 16 and the maximum sum is 3 + 5 + 7 + 9 = 24. The function prints: 16 24"
   ]
  },
  {
   "cell_type": "code",
   "execution_count": 209,
   "id": "6bd1d842-7a61-4242-8aad-c7c9bd25d74a",
   "metadata": {},
   "outputs": [],
   "source": [
    "def miniMaxSum(arr):\n",
    "    arr = sorted(arr)\n",
    "    min_sum = sum(arr[:4])\n",
    "    max_sum = sum(arr[-4:])\n",
    "    return min_sum,max_sum"
   ]
  },
  {
   "cell_type": "code",
   "execution_count": 210,
   "id": "e1138902-4b7e-41db-b68c-a46880c0d5d9",
   "metadata": {},
   "outputs": [
    {
     "data": {
      "text/plain": [
       "(16, 24)"
      ]
     },
     "execution_count": 210,
     "metadata": {},
     "output_type": "execute_result"
    }
   ],
   "source": [
    "miniMaxSum([1, 3, 5, 7, 9])"
   ]
  },
  {
   "cell_type": "markdown",
   "id": "e7e3d5f0-76cc-4c55-ac84-cb35d1550b5f",
   "metadata": {},
   "source": [
    "### Max Sales:\n",
    "Find the store that sold the most. Write a function maxSales that takes a **list of tuples** as input, where each tuple contains a store name and its corresponding sales figure. The function iterates through this list to determine **which store has the highest sales** and returns both the store name and the maximum sales amount. This is a straightforward implementation aimed at identifying the top-performing store based on sales data."
   ]
  },
  {
   "cell_type": "code",
   "execution_count": 211,
   "id": "0067cb6b-6c16-480a-94cd-0600be770813",
   "metadata": {},
   "outputs": [],
   "source": [
    "x = [('Store1',5000),('Store2',3000),('Store3',10000),('Store4',7000),('Store5',2500)]"
   ]
  },
  {
   "cell_type": "code",
   "execution_count": 214,
   "id": "8b1d4856-c3ae-4e8d-a320-b6c06f43a993",
   "metadata": {},
   "outputs": [],
   "source": [
    "def maxSales(x):\n",
    "    max_sales = 0\n",
    "    max_store = ''\n",
    "    for store, sales in x:\n",
    "        if sales > max_sales:\n",
    "            max_sales = sales\n",
    "            max_store = store\n",
    "    return max_store, max_sales"
   ]
  },
  {
   "cell_type": "code",
   "execution_count": 215,
   "id": "dc21da22-95d4-44f4-a3a7-68c69166a0eb",
   "metadata": {},
   "outputs": [
    {
     "data": {
      "text/plain": [
       "('Store3', 10000)"
      ]
     },
     "execution_count": 215,
     "metadata": {},
     "output_type": "execute_result"
    }
   ],
   "source": [
    "maxSales(x)"
   ]
  },
  {
   "cell_type": "markdown",
   "id": "1a223d25-7d45-492e-9afd-5a8445b26536",
   "metadata": {},
   "source": [
    "Same can be achieved through **lambda function**: <br>\n",
    "The function uses the built-in max function to find and return the element from x that has the highest value based on the second item in each pair. The key parameter of the max function is set to a lambda function that **extracts the second element of each pair** for comparison."
   ]
  },
  {
   "cell_type": "code",
   "execution_count": 216,
   "id": "bb879e81-b583-49f5-b0ac-b7762cef3cfe",
   "metadata": {},
   "outputs": [],
   "source": [
    "def maxSales2(x):\n",
    "    return max(x, key = lambda x:x[1])"
   ]
  },
  {
   "cell_type": "code",
   "execution_count": 217,
   "id": "297f418e-2429-41a5-88d8-579ccfc041b1",
   "metadata": {},
   "outputs": [
    {
     "data": {
      "text/plain": [
       "('Store3', 10000)"
      ]
     },
     "execution_count": 217,
     "metadata": {},
     "output_type": "execute_result"
    }
   ],
   "source": [
    "maxSales2(x)"
   ]
  },
  {
   "cell_type": "markdown",
   "id": "716872f5-8072-476e-8ad1-7c36dbd53c81",
   "metadata": {},
   "source": [
    "### Combine Dictionaries while retaining all values:"
   ]
  },
  {
   "cell_type": "markdown",
   "id": "ceb80625-c512-44a4-8e42-f7d5c6153ccf",
   "metadata": {},
   "source": [
    "The goal is to combine two dictionaries while retaining **all values from both dictionaries**, instead of overriding them:\n",
    "\n",
    "##### Example: \n",
    "###### Input:\n",
    "x = {'A':101,'B':201} <br>\n",
    "y = {'A':102,'B':202} <br>\n",
    "###### Output:\n",
    "{'A': [101, 102], 'B': [201, 202]}"
   ]
  },
  {
   "cell_type": "markdown",
   "id": "bdce0908-db97-4e51-9d9a-f1ed84e5f4eb",
   "metadata": {},
   "source": [
    "The function creates a new dictionary that combines the entries from both input dictionaries. If a key exists in both dictionaries, the function stores the values in a list. If a key exists only in one dictionary, its value is stored directly. The result is a new dictionary where each key maps to a list of values, accommodating potential overlaps between the two input dictionaries."
   ]
  },
  {
   "cell_type": "markdown",
   "id": "073d0119-2906-4f55-8395-b2f019d03bb5",
   "metadata": {},
   "source": [
    "- Logic:\n",
    "    - The function iterates through the items of the first dictionary (x), initializing each key in new with a list containing the corresponding value from x.\n",
    "    - It then iterates through the second dictionary (y), appending values to the list for existing keys or creating a new entry if the key does not exist in new."
   ]
  },
  {
   "cell_type": "code",
   "execution_count": 218,
   "id": "d969145d-f78e-4979-82fd-100084f5ab0d",
   "metadata": {},
   "outputs": [],
   "source": [
    "def mergeDict(x, y):\n",
    "    new = {}\n",
    "    for k,v in x.items():\n",
    "        new[k] = [v]\n",
    "    for  key, value in y.items():\n",
    "        if key in new:\n",
    "            new[key].append(value)\n",
    "        else:\n",
    "            new[key] = value\n",
    "    return new"
   ]
  },
  {
   "cell_type": "code",
   "execution_count": 219,
   "id": "c02aa014-6e42-4f67-b4f2-6531944ed4b9",
   "metadata": {},
   "outputs": [
    {
     "data": {
      "text/plain": [
       "{'A': [101, 102], 'B': [201, 202]}"
      ]
     },
     "execution_count": 219,
     "metadata": {},
     "output_type": "execute_result"
    }
   ],
   "source": [
    "x = {'A':101,'B':201}\n",
    "y = {'A':102,'B':202}\n",
    "mergeDict(x, y)"
   ]
  },
  {
   "cell_type": "markdown",
   "id": "e55da906-ebcc-4751-9dfc-75c67d5a0fd0",
   "metadata": {},
   "source": [
    "### Dictionary Inversion:"
   ]
  },
  {
   "cell_type": "markdown",
   "id": "1235067b-2b28-4cf9-ac44-7795e287b89f",
   "metadata": {},
   "source": [
    "Make keys become values and vice versa."
   ]
  },
  {
   "cell_type": "code",
   "execution_count": 220,
   "id": "cb662e3a-a8c9-4cf5-a266-a74abd4595e5",
   "metadata": {},
   "outputs": [
    {
     "data": {
      "text/plain": [
       "{102: 'A', 202: 'B'}"
      ]
     },
     "execution_count": 220,
     "metadata": {},
     "output_type": "execute_result"
    }
   ],
   "source": [
    "y = {'A':102,'B':202}\n",
    "\n",
    "{v:k for k,v in y.items()}"
   ]
  },
  {
   "cell_type": "markdown",
   "id": "23cffafd-51f6-412c-b555-c3e626db62e1",
   "metadata": {},
   "source": [
    "### Permutations:"
   ]
  },
  {
   "cell_type": "markdown",
   "id": "e4c11e21-3741-4462-9d8d-3f1c9a8d38a7",
   "metadata": {},
   "source": [
    "What are the possible permutations of the word \"cat\"? No repetitions, only the unique letters.\n",
    "\n",
    "###### Example:\n",
    "###### Input: \n",
    "'cat'\n",
    "###### Output: \n",
    "['cat', 'cta', 'act', 'atc', 'tca', 'tac']"
   ]
  },
  {
   "cell_type": "code",
   "execution_count": 230,
   "id": "a258dbf9-5831-4648-8539-e8724bd2de1e",
   "metadata": {},
   "outputs": [
    {
     "data": {
      "text/plain": [
       "['ccc',\n",
       " 'cca',\n",
       " 'cct',\n",
       " 'cac',\n",
       " 'caa',\n",
       " 'cat',\n",
       " 'ctc',\n",
       " 'cta',\n",
       " 'ctt',\n",
       " 'acc',\n",
       " 'aca',\n",
       " 'act',\n",
       " 'aac',\n",
       " 'aaa',\n",
       " 'aat',\n",
       " 'atc',\n",
       " 'ata',\n",
       " 'att',\n",
       " 'tcc',\n",
       " 'tca',\n",
       " 'tct',\n",
       " 'tac',\n",
       " 'taa',\n",
       " 'tat',\n",
       " 'ttc',\n",
       " 'tta',\n",
       " 'ttt']"
      ]
     },
     "execution_count": 230,
     "metadata": {},
     "output_type": "execute_result"
    }
   ],
   "source": [
    "x = 'cat'\n",
    "# with repetitions:\n",
    "[i+j+k for i in x for j in x for k in x] "
   ]
  },
  {
   "cell_type": "code",
   "execution_count": 233,
   "id": "2d8b3521-ddc3-4f90-85e1-87b47fa626bf",
   "metadata": {},
   "outputs": [
    {
     "data": {
      "text/plain": [
       "['cat', 'cta', 'act', 'atc', 'tca', 'tac']"
      ]
     },
     "execution_count": 233,
     "metadata": {},
     "output_type": "execute_result"
    }
   ],
   "source": [
    "# without repetitions:\n",
    "# tripple nested for-loop intriduces O(n^3) complexity, which may cause performance issues for large strings.\n",
    "[i+j+k for i in x for j in x for k in x if i!=j and j!=k and k!=i]"
   ]
  },
  {
   "cell_type": "code",
   "execution_count": 232,
   "id": "23ddfd05-59a7-4257-8bd3-1c8d31fb53fc",
   "metadata": {},
   "outputs": [
    {
     "data": {
      "text/plain": [
       "['cat', 'cta', 'act', 'atc', 'tca', 'tac']"
      ]
     },
     "execution_count": 232,
     "metadata": {},
     "output_type": "execute_result"
    }
   ],
   "source": [
    "# without repetitions\n",
    "# removing the redundant condition if i!=j and j!=k and k!=i by utilizing set properties: \n",
    "# if a length of the set is equal to the length of the string, that means all characters in string are unique\n",
    "[i+j+k for i in x for j in x for k in x if len(set(i+j+k))==len(x)]"
   ]
  },
  {
   "cell_type": "markdown",
   "id": "97928b22-0bcd-4353-b950-61698146b199",
   "metadata": {},
   "source": [
    "Use built-in methods:"
   ]
  },
  {
   "cell_type": "code",
   "execution_count": 228,
   "id": "fbd165aa-fdd8-4475-a523-07046d311688",
   "metadata": {},
   "outputs": [
    {
     "data": {
      "text/plain": [
       "['cat', 'cta', 'act', 'atc', 'tca', 'tac']"
      ]
     },
     "execution_count": 228,
     "metadata": {},
     "output_type": "execute_result"
    }
   ],
   "source": [
    "from itertools import permutations\n",
    "perms = [''.join(p) for p in permutations('cat')]\n",
    "perms"
   ]
  },
  {
   "cell_type": "markdown",
   "id": "59633751-3250-4173-a9bf-3acc05f47131",
   "metadata": {},
   "source": [
    "### Calculate area of rectangle"
   ]
  },
  {
   "cell_type": "markdown",
   "id": "679c5885-3d90-4570-8c86-60176ab4f578",
   "metadata": {},
   "source": [
    "There's a list of 26 character \"heights\" aligned by index to their letters. For example, 'a' is at 0, and 'z' is at 25. There will also be a string. Using the letter heights given, determine the area of the rectangle \"formed\" by the word, assuming all consecutive characters are \"width\" = 1.\n",
    "\n",
    "###### Example:\n",
    "- Input:\n",
    "  h = [1, 3, 1, 3, 1, 4, 1, 3, 2, 5, 5, 5, 5, 1, 1, 5, 5, 1, 5, 2, 5, 5, 5, 5, 5, 5]\n",
    "  word = 'torn'\n",
    "- Output: 8\n",
    "  The height of t is 2, because our input list assigns the value of 2 to the letter 't' (it will be visible in mapping dictionary). The width is 4, because the word has 4 letters. 2 x 4 = 8, so the area returns 8."
   ]
  },
  {
   "cell_type": "code",
   "execution_count": 234,
   "id": "da100652-f0fb-4608-bcde-86eba04b82a9",
   "metadata": {},
   "outputs": [
    {
     "data": {
      "text/plain": [
       "{'a': 1,\n",
       " 'b': 3,\n",
       " 'c': 1,\n",
       " 'd': 3,\n",
       " 'e': 1,\n",
       " 'f': 4,\n",
       " 'g': 1,\n",
       " 'h': 3,\n",
       " 'i': 2,\n",
       " 'j': 5,\n",
       " 'k': 5,\n",
       " 'l': 5,\n",
       " 'm': 5,\n",
       " 'n': 1,\n",
       " 'o': 1,\n",
       " 'p': 5,\n",
       " 'q': 5,\n",
       " 'r': 1,\n",
       " 's': 5,\n",
       " 't': 2,\n",
       " 'u': 5,\n",
       " 'v': 5,\n",
       " 'w': 5,\n",
       " 'x': 5,\n",
       " 'y': 5,\n",
       " 'z': 5}"
      ]
     },
     "execution_count": 234,
     "metadata": {},
     "output_type": "execute_result"
    }
   ],
   "source": [
    "h = [1, 3, 1, 3, 1, 4, 1, 3, 2, 5, 5, 5, 5, 1, 1, 5, 5, 1, 5, 2, 5, 5, 5, 5, 5, 5]\n",
    "word = 'torn'\n",
    "\n",
    "import string\n",
    "mapping = {i: j for i,j in zip(string.ascii_lowercase,h)}\n",
    "mapping"
   ]
  },
  {
   "cell_type": "code",
   "execution_count": 235,
   "id": "8463cd1a-70b6-4a87-ac8b-0ac61982d0d8",
   "metadata": {},
   "outputs": [
    {
     "data": {
      "text/plain": [
       "(2, 't')"
      ]
     },
     "execution_count": 235,
     "metadata": {},
     "output_type": "execute_result"
    }
   ],
   "source": [
    "max_height = 0\n",
    "max_height_letter = ''\n",
    "for k,v in mapping.items():\n",
    "  if k in word and v>max_height:\n",
    "    max_height = v\n",
    "    max_height_letter = k\n",
    "max_height,max_height_letter"
   ]
  },
  {
   "cell_type": "code",
   "execution_count": 236,
   "id": "aa83636f-fe0d-4858-a84f-a24b354430e4",
   "metadata": {},
   "outputs": [
    {
     "data": {
      "text/plain": [
       "8"
      ]
     },
     "execution_count": 236,
     "metadata": {},
     "output_type": "execute_result"
    }
   ],
   "source": [
    "area = max_height*len(word)\n",
    "area"
   ]
  },
  {
   "cell_type": "code",
   "execution_count": 237,
   "id": "79309888-3270-4f8b-aebb-905cb132f2f8",
   "metadata": {},
   "outputs": [],
   "source": [
    "import string\n",
    "\n",
    "def areaCalc(h, word):\n",
    "    mapping = {i: j for i,j in zip(string.ascii_lowercase,h)}\n",
    "    max_height = 0\n",
    "    max_height_letter = ''\n",
    "    for k,v in mapping.items():\n",
    "          if k in word and v>max_height: \n",
    "              max_height = v\n",
    "              max_height_letter = k\n",
    "              area = max_height*len(word)\n",
    "    return area             "
   ]
  },
  {
   "cell_type": "code",
   "execution_count": 238,
   "id": "7f0b963d-bbf6-4361-a88d-6a91106aa7b5",
   "metadata": {},
   "outputs": [
    {
     "data": {
      "text/plain": [
       "8"
      ]
     },
     "execution_count": 238,
     "metadata": {},
     "output_type": "execute_result"
    }
   ],
   "source": [
    "h = [1, 3, 1, 3, 1, 4, 1, 3, 2, 5, 5, 5, 5, 1, 1, 5, 5, 1, 5, 2, 5, 5, 5, 5, 5, 5]\n",
    "word = 'torn'\n",
    "\n",
    "areaCalc(h, word)"
   ]
  },
  {
   "cell_type": "code",
   "execution_count": null,
   "id": "1921f979-60f4-4f32-b92c-2884d30a5efe",
   "metadata": {},
   "outputs": [],
   "source": []
  },
  {
   "cell_type": "code",
   "execution_count": null,
   "id": "a8927c9c-090c-4d2b-bfc7-b22291485c55",
   "metadata": {},
   "outputs": [],
   "source": []
  }
 ],
 "metadata": {
  "kernelspec": {
   "display_name": "Python 3 (ipykernel)",
   "language": "python",
   "name": "python3"
  },
  "language_info": {
   "codemirror_mode": {
    "name": "ipython",
    "version": 3
   },
   "file_extension": ".py",
   "mimetype": "text/x-python",
   "name": "python",
   "nbconvert_exporter": "python",
   "pygments_lexer": "ipython3",
   "version": "3.12.4"
  }
 },
 "nbformat": 4,
 "nbformat_minor": 5
}
