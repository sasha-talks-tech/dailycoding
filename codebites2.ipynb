{
 "cells": [
  {
   "cell_type": "markdown",
   "id": "014624c9-3690-4f71-85a1-5315254d412d",
   "metadata": {},
   "source": [
    "# Code Bites 2"
   ]
  },
  {
   "cell_type": "markdown",
   "id": "f3d871bb-27d7-4fd5-9c05-abebff477c2e",
   "metadata": {},
   "source": [
    "#### Problem 1:"
   ]
  },
  {
   "cell_type": "markdown",
   "id": "b2eb6c1a-ccbc-4d44-9aaf-fcc6c1e8f42a",
   "metadata": {},
   "source": [
    "Find a **factorial of number n**, if n = 5, the desired output should be 1 x 2 x 3 x 4 x 5 = 120."
   ]
  },
  {
   "cell_type": "code",
   "execution_count": 2,
   "id": "4b8ee0b8-96f6-4633-a669-ad6a9c1d53a8",
   "metadata": {},
   "outputs": [
    {
     "data": {
      "text/plain": [
       "120"
      ]
     },
     "execution_count": 2,
     "metadata": {},
     "output_type": "execute_result"
    }
   ],
   "source": [
    "n = 5\n",
    "factorial = 1\n",
    "for num in range(1, n+1):\n",
    "    factorial = factorial * num\n",
    "factorial    "
   ]
  },
  {
   "cell_type": "code",
   "execution_count": 3,
   "id": "a400c2b6-6bac-4f8c-820f-637db110b5c0",
   "metadata": {},
   "outputs": [],
   "source": [
    "def factorial(n):\n",
    "    factorial = 1\n",
    "    for number in range(1, n+1):\n",
    "        factorial *= number\n",
    "    return factorial"
   ]
  },
  {
   "cell_type": "code",
   "execution_count": 4,
   "id": "87c01fb7-bca0-4d38-a2d5-6dfe2c4eb7f7",
   "metadata": {},
   "outputs": [
    {
     "data": {
      "text/plain": [
       "3628800"
      ]
     },
     "execution_count": 4,
     "metadata": {},
     "output_type": "execute_result"
    }
   ],
   "source": [
    "factorial(10)"
   ]
  },
  {
   "cell_type": "markdown",
   "id": "13092464-b6db-4353-9a14-9486ff728869",
   "metadata": {},
   "source": [
    "#### Problem 2:"
   ]
  },
  {
   "cell_type": "markdown",
   "id": "a44cceb0-2507-4d1f-a5d6-32afba1fd6ac",
   "metadata": {},
   "source": [
    "Write a function to **remove duplicates** from the list. <br>\n",
    "- Input: x = [1, 2, 4, 2, 5, 6, 7, 4] <br>\n",
    "- Output: result = [1, 2, 4, 5, 6, 7]"
   ]
  },
  {
   "cell_type": "code",
   "execution_count": 5,
   "id": "ab5c74d0-71ae-4165-91fc-c4f67a14b997",
   "metadata": {},
   "outputs": [],
   "source": [
    "def remove_duplicates(x):\n",
    "    result = []\n",
    "    for i in x:\n",
    "       if i not in result:\n",
    "           result.append(i)\n",
    "    return result"
   ]
  },
  {
   "cell_type": "code",
   "execution_count": 6,
   "id": "3864cfce-a294-4259-9165-99034c502a02",
   "metadata": {},
   "outputs": [
    {
     "data": {
      "text/plain": [
       "[1, 2, 4, 5, 6, 7]"
      ]
     },
     "execution_count": 6,
     "metadata": {},
     "output_type": "execute_result"
    }
   ],
   "source": [
    "remove_duplicates([1, 2, 4, 2, 5, 6, 7, 4])"
   ]
  },
  {
   "cell_type": "code",
   "execution_count": 14,
   "id": "ad5a3795-e538-464a-8505-aaee45cf615e",
   "metadata": {},
   "outputs": [
    {
     "data": {
      "text/plain": [
       "[None, None, None, None, None, None]"
      ]
     },
     "execution_count": 14,
     "metadata": {},
     "output_type": "execute_result"
    }
   ],
   "source": [
    "x = [1, 2, 4, 2, 5, 6, 7, 4]\n",
    "result = []\n",
    "[result.append(item) for item in x if item not in result]"
   ]
  },
  {
   "cell_type": "code",
   "execution_count": 77,
   "id": "b50898d2-100b-4b6d-90f5-bf2d9ff1d6c3",
   "metadata": {},
   "outputs": [],
   "source": [
    "# None was returned because append itself doesn't return any value"
   ]
  },
  {
   "cell_type": "code",
   "execution_count": 15,
   "id": "d64e15b5-29b8-4861-b328-4324b93ce7c1",
   "metadata": {},
   "outputs": [
    {
     "data": {
      "text/plain": [
       "[1, 2, 4, 5, 6, 7]"
      ]
     },
     "execution_count": 15,
     "metadata": {},
     "output_type": "execute_result"
    }
   ],
   "source": [
    "result"
   ]
  },
  {
   "cell_type": "markdown",
   "id": "f02a35bd-bffa-42ea-a82f-038a2ad493cd",
   "metadata": {},
   "source": [
    "#### Problem 3:"
   ]
  },
  {
   "cell_type": "markdown",
   "id": "9d136c3c-4f8b-4c3c-99db-5bffb605e353",
   "metadata": {},
   "source": [
    "Given two lists, write a function to find the **intersection of both lists**. <br>\n",
    "- Input: <br>\n",
    "  a = [1, 3, 4, 7, 8, 10] <br>\n",
    "  b = [3, 2, 5, 8, 7, 11] <br>\n",
    "- Output: <br>\n",
    "  result = [3, 7, 8]"
   ]
  },
  {
   "cell_type": "code",
   "execution_count": 80,
   "id": "f4749ebc-095b-4f0a-913d-1ac665fab7dd",
   "metadata": {},
   "outputs": [],
   "source": [
    "a = [1, 3, 4, 7, 8, 10]\n",
    "b = [3, 2, 5, 8, 7, 11]"
   ]
  },
  {
   "cell_type": "code",
   "execution_count": 69,
   "id": "519ef50a-acb8-4553-a4fb-923a6d797f60",
   "metadata": {},
   "outputs": [],
   "source": [
    "def intersection(a, b):\n",
    "    result = []\n",
    "    for i in a:\n",
    "        if i in b:\n",
    "            result.append(i)\n",
    "    return result"
   ]
  },
  {
   "cell_type": "code",
   "execution_count": 70,
   "id": "558aa9d8-b315-405b-b474-ea265a9c59ab",
   "metadata": {},
   "outputs": [
    {
     "data": {
      "text/plain": [
       "[3, 7, 8]"
      ]
     },
     "execution_count": 70,
     "metadata": {},
     "output_type": "execute_result"
    }
   ],
   "source": [
    "intersection(a, b)"
   ]
  },
  {
   "cell_type": "code",
   "execution_count": 71,
   "id": "21df24ff-c9a1-4d48-aacb-a9784cd66171",
   "metadata": {},
   "outputs": [
    {
     "data": {
      "text/plain": [
       "[3, 7, 8]"
      ]
     },
     "execution_count": 71,
     "metadata": {},
     "output_type": "execute_result"
    }
   ],
   "source": [
    "a = [1, 3, 4, 7, 8, 10]\n",
    "b = [3, 2, 5, 8, 7, 11]\n",
    "[i for i in a if i in b]"
   ]
  },
  {
   "cell_type": "markdown",
   "id": "379b5fe6-6ffc-400b-a038-d091d824d49a",
   "metadata": {},
   "source": [
    "Using sets:"
   ]
  },
  {
   "cell_type": "code",
   "execution_count": 83,
   "id": "536b8e26-7b82-4d9e-adcc-f22fb06ae645",
   "metadata": {},
   "outputs": [
    {
     "data": {
      "text/plain": [
       "[8, 3, 7]"
      ]
     },
     "execution_count": 83,
     "metadata": {},
     "output_type": "execute_result"
    }
   ],
   "source": [
    "list(set(a).intersection(set(b)))"
   ]
  },
  {
   "cell_type": "markdown",
   "id": "4ca73c0d-e9bc-49c6-b81e-3230b2b06604",
   "metadata": {},
   "source": [
    "#### Problem 4:"
   ]
  },
  {
   "cell_type": "markdown",
   "id": "ad467ac7-bcb4-4665-b2e9-d1a3a860ac0b",
   "metadata": {},
   "source": [
    "Compute **sum of elements** in a and b **index-wise**.\n",
    "- Input: <br>\n",
    "  a = [1, 3, 4, 7, 8, 10] <br>\n",
    "  b = [3, 2, 5, 8, 7, 11]\n",
    "- Output: <br>\n",
    "  [4, 5, 9, 15, 15, 21]"
   ]
  },
  {
   "cell_type": "code",
   "execution_count": 72,
   "id": "91134eae-2660-4fe9-ac3f-e41b09f3d0cc",
   "metadata": {},
   "outputs": [
    {
     "data": {
      "text/plain": [
       "[4, 5, 9, 15, 15, 21]"
      ]
     },
     "execution_count": 72,
     "metadata": {},
     "output_type": "execute_result"
    }
   ],
   "source": [
    "[x+y for x,y in zip(a, b)]"
   ]
  },
  {
   "cell_type": "code",
   "execution_count": 73,
   "id": "c9ef814f-46d3-4685-9da3-99589b973420",
   "metadata": {},
   "outputs": [
    {
     "data": {
      "text/plain": [
       "[4, 5, 9, 15, 15, 21]"
      ]
     },
     "execution_count": 73,
     "metadata": {},
     "output_type": "execute_result"
    }
   ],
   "source": [
    "[a[i] + b[i] for i in range(len(a))]"
   ]
  },
  {
   "cell_type": "markdown",
   "id": "cc764070-cde6-4446-9206-35746886dad3",
   "metadata": {},
   "source": [
    "#### Problem 5:"
   ]
  },
  {
   "cell_type": "markdown",
   "id": "25bd0c66-eb0f-4ce8-973d-b4eedc8db811",
   "metadata": {},
   "source": [
    "Find the number that is **missing from the sequence**. <br>\n",
    "- Input: <br>\n",
    "   a = [1, 2, 3, 4, 5, 7, 8, 9, 10]\n",
    "- Output: <br>\n",
    "  6"
   ]
  },
  {
   "cell_type": "code",
   "execution_count": 84,
   "id": "63899573-869d-4a57-b778-60a635a7ea96",
   "metadata": {},
   "outputs": [
    {
     "name": "stdout",
     "output_type": "stream",
     "text": [
      "6\n"
     ]
    }
   ],
   "source": [
    "a = [1, 2, 3, 4, 5, 7, 8, 9, 10]\n",
    "start = a[0]\n",
    "end = a[-1] # signifies the last element from the list\n",
    "for i in range(start, end+1):\n",
    "    if i not in a:\n",
    "        print(i)"
   ]
  },
  {
   "cell_type": "markdown",
   "id": "34dec337-96d2-47a0-94f3-74507562f43f",
   "metadata": {},
   "source": [
    "#### Problem 6:"
   ]
  },
  {
   "cell_type": "markdown",
   "id": "93adcc6d-7d55-4c7a-95e9-6914559a4173",
   "metadata": {},
   "source": [
    "Find **how many times each term appears** in a sequence.<br>\n",
    "- Input: <br>\n",
    "    x = \"animal\"\n",
    "- Output: <br>\n",
    "  {'a': 2, 'n': 1, 'i': 1, 'm': 1, 'l': 1}  "
   ]
  },
  {
   "cell_type": "code",
   "execution_count": 27,
   "id": "25ca90b7-dbb2-42be-af8d-b49e8fccca9d",
   "metadata": {},
   "outputs": [
    {
     "data": {
      "text/plain": [
       "{'a': 2, 'n': 1, 'i': 1, 'm': 1, 'l': 1}"
      ]
     },
     "execution_count": 27,
     "metadata": {},
     "output_type": "execute_result"
    }
   ],
   "source": [
    "x = \"animal\"\n",
    "# Create a dictionary where letters are keys and values are corresponding counts.\n",
    "result = {}\n",
    "for i in x:\n",
    "    if i in result:\n",
    "        # increment to the value\n",
    "        result[i] += 1\n",
    "    else:\n",
    "        result[i] = 1\n",
    "result"
   ]
  },
  {
   "cell_type": "markdown",
   "id": "086c2e78-5252-4ee1-878b-31ef1725013a",
   "metadata": {},
   "source": [
    "Can be solved using dictionary comprehension:"
   ]
  },
  {
   "cell_type": "code",
   "execution_count": 28,
   "id": "65ad32ac-0be7-4c80-9826-3dba49d23dff",
   "metadata": {},
   "outputs": [],
   "source": [
    "result = {i: x.count(i) for i in x}"
   ]
  },
  {
   "cell_type": "code",
   "execution_count": 29,
   "id": "c0dd670c-4ccf-46ae-a3aa-e2911a6c0296",
   "metadata": {},
   "outputs": [
    {
     "data": {
      "text/plain": [
       "{'a': 2, 'n': 1, 'i': 1, 'm': 1, 'l': 1}"
      ]
     },
     "execution_count": 29,
     "metadata": {},
     "output_type": "execute_result"
    }
   ],
   "source": [
    "result"
   ]
  },
  {
   "cell_type": "markdown",
   "id": "9f4b1cbe-11ab-40cc-96d9-3e8964b1675a",
   "metadata": {},
   "source": [
    "#### Problem 7:"
   ]
  },
  {
   "cell_type": "markdown",
   "id": "468fcd0f-5839-4866-b06d-e7afc084dc90",
   "metadata": {},
   "source": [
    "Check if the **number is prime**. <br>\n",
    "- Input: some integer <br>\n",
    "- Output: Prime/Not prime"
   ]
  },
  {
   "cell_type": "markdown",
   "id": "d453289e-0a8e-42d8-a22e-3da8b761061f",
   "metadata": {},
   "source": [
    "**Logic:** <br>\n",
    "Prime number can only be divisible by itself and one without the remainder. <br>\n",
    "<br>\n",
    "Variable *flag* is initiated outside of the loop so that we can refer to it (and change it) inside of the *for*-loop. <br>\n",
    "<br>\n",
    "We iterate over the range between 2 and our number until the \"non-primeness\" condition is met:<br> \n",
    "Our number n is divisible by *some* number from the range without a remainder. <br>\n",
    "When the condition is met, we change the *flag* and stop  executing the loop: we have our verdict: the number is not prime, no point to continue. <br>\n",
    "<br>\n",
    "After the loop (outside of it) we evaluate the *flag*. If loop executed over the whole range without stopping, means the condition for \"non-primenes\" was not met. If the flag wasn't changed from 0 to 1, then it is indeed prime."
   ]
  },
  {
   "cell_type": "code",
   "execution_count": 85,
   "id": "65c3c169-4e07-4e84-85e4-cc0870b1cb94",
   "metadata": {},
   "outputs": [
    {
     "name": "stdout",
     "output_type": "stream",
     "text": [
      "Not prime\n"
     ]
    }
   ],
   "source": [
    "n = 1000000005961\n",
    "# Determine if n is prime\n",
    "flag = 0\n",
    "for num in range(2, n):\n",
    "    if n % num == 0:\n",
    "        flag = 1\n",
    "        break # if condition is met we can break out of the for loop\n",
    "if flag == 1:\n",
    "    print(\"Not prime\")\n",
    "else:\n",
    "    print(\"Prime\")"
   ]
  },
  {
   "cell_type": "markdown",
   "id": "8315c99f-0c73-470b-b732-96c0921c3388",
   "metadata": {},
   "source": [
    "#### Problem 8:"
   ]
  },
  {
   "cell_type": "markdown",
   "id": "e0318f2e-3b55-4e5b-87fa-80e8fa15feae",
   "metadata": {},
   "source": [
    "Get a **sum of individual numbers** that compose an integer. <br>\n",
    "- Input: <br>\n",
    "  x = 12345 <br>\n",
    "- Output: <br>\n",
    "    total = 1+2+3+4+5 = 15"
   ]
  },
  {
   "cell_type": "code",
   "execution_count": 76,
   "id": "c2620af4-7665-4e66-82f1-eb4474f01395",
   "metadata": {},
   "outputs": [
    {
     "data": {
      "text/plain": [
       "15"
      ]
     },
     "execution_count": 76,
     "metadata": {},
     "output_type": "execute_result"
    }
   ],
   "source": [
    "x = 12345\n",
    "x = str(x)\n",
    "total = 0\n",
    "for num in x:\n",
    "    total += int(num)\n",
    "total"
   ]
  },
  {
   "cell_type": "code",
   "execution_count": 51,
   "id": "8574eee0-7def-471e-8564-672f1a71a796",
   "metadata": {},
   "outputs": [
    {
     "data": {
      "text/plain": [
       "15"
      ]
     },
     "execution_count": 51,
     "metadata": {},
     "output_type": "execute_result"
    }
   ],
   "source": [
    "sum([int(i) for i in x])"
   ]
  },
  {
   "cell_type": "markdown",
   "id": "ac3c398b-5ac0-4851-8b15-6f2c171c6f9e",
   "metadata": {},
   "source": [
    "#### Problem 9:"
   ]
  },
  {
   "cell_type": "markdown",
   "id": "ad5421a0-0a11-4808-a701-524d1498fc92",
   "metadata": {},
   "source": [
    "Find the **max of the given numbers** on the list. <br>\n",
    "- Input: [3, 357, 25]\n",
    "- Output: 357"
   ]
  },
  {
   "cell_type": "markdown",
   "id": "4d898180-9270-4581-ae8f-d38eccb23b76",
   "metadata": {},
   "source": [
    "**Logic:** <br>\n",
    "1. Tracker is our variable that we compare against, it will change as we go through the loop.\n",
    "2. As we progress through the *for*-loop, and we find a number that is greater than the tracker, we simply replace the tracker with that number. That number is our maximum."
   ]
  },
  {
   "cell_type": "code",
   "execution_count": 53,
   "id": "fa318c14-c9fe-4c10-be56-6ecf9cd60e93",
   "metadata": {},
   "outputs": [
    {
     "name": "stdout",
     "output_type": "stream",
     "text": [
      "357\n"
     ]
    }
   ],
   "source": [
    "max_list = [3, 357, 25]\n",
    "tracker = 0\n",
    "# num changes as we progress through thr list of numbers.\n",
    "# as we progress, and we find a number that ids greater than the tracker, we simply replace the tracker with the number\n",
    "# the process keeps going until the end of the list. This way we are setting the max value of the tracker\n",
    "for num in max_list: \n",
    "    if num > tracker:\n",
    "        tracker = num\n",
    "print(tracker)"
   ]
  },
  {
   "cell_type": "markdown",
   "id": "2f6a31f1-8c42-4f19-98bc-c667f39c74ef",
   "metadata": {},
   "source": [
    "#### Problem 10:"
   ]
  },
  {
   "cell_type": "markdown",
   "id": "116db8d9-5c0c-4904-a3d5-cb39bc6447bd",
   "metadata": {},
   "source": [
    "Generate sequence of **Fibonacci numbers** up to a given number. <br>\n",
    "<br>\n",
    "- Input: 6\n",
    "- Output: [0, 1, 1, 2, 3, 5]\n",
    "<br>\n",
    "##### Fibonacci logic: \n",
    "fib[n+2] = fib[n] + fib[n+1]<br>\n",
    "<br>\n",
    "##### Process:\n",
    "1. Fib sequence will always start at [0,1], so we hard-code it as a list to append to.\n",
    "2. The 2 functions we created are identical, **except** for the return statement: <br>\n",
    "    - The **first function** will stop at the **index** as opposed to the value of the integer\n",
    "    - The **second function** will stop at the **value** of the integer, because we include the list comprehension in the return statement, where we iterate over the numbers in the resulting list, and ordering it to stop when it reaches our stopping value."
   ]
  },
  {
   "cell_type": "code",
   "execution_count": 86,
   "id": "6c4cbbd3-0b70-4773-a1c9-ae91ee34db6c",
   "metadata": {},
   "outputs": [],
   "source": [
    "stop = 6"
   ]
  },
  {
   "cell_type": "code",
   "execution_count": 102,
   "id": "663f4bc2-1808-4744-9c5d-abc5bfd6368a",
   "metadata": {},
   "outputs": [],
   "source": [
    "# the following function will stop at the INDEX as opposed to VALUE\n",
    "def fib_generator(stop):\n",
    "    fib_list = [0, 1]\n",
    "    for num in range(stop-2):\n",
    "        next = fib_list[-2] + fib_list[-1]\n",
    "        fib_list.append(next)\n",
    "    return fib_list"
   ]
  },
  {
   "cell_type": "code",
   "execution_count": 103,
   "id": "2a0db726-fbe9-45b9-98f1-01121dceafb0",
   "metadata": {},
   "outputs": [
    {
     "data": {
      "text/plain": [
       "[0, 1, 1, 2, 3, 5]"
      ]
     },
     "execution_count": 103,
     "metadata": {},
     "output_type": "execute_result"
    }
   ],
   "source": [
    "fib_generator(stop) # returns the first 6 fibonacci numbers"
   ]
  },
  {
   "cell_type": "code",
   "execution_count": 105,
   "id": "6a5b29da-8197-497b-b630-7bb9398541c3",
   "metadata": {},
   "outputs": [
    {
     "data": {
      "text/plain": [
       "[0, 1, 1, 2, 3, 5, 8, 13, 21, 34]"
      ]
     },
     "execution_count": 105,
     "metadata": {},
     "output_type": "execute_result"
    }
   ],
   "source": [
    "# Will return the first 10 fib numbers, as opposed to stopping at the value of number 10\n",
    "fib_generator(10)"
   ]
  },
  {
   "cell_type": "code",
   "execution_count": 106,
   "id": "d1ab8d33-edfd-435b-8c84-380c73ac5304",
   "metadata": {},
   "outputs": [],
   "source": [
    "# The following function will return all the fib numbers prior to the specified number:\n",
    "def fib_generator2(stop):\n",
    "    fib_list = [0, 1]\n",
    "    for num in range(stop):\n",
    "        next = fib_list[-2] + fib_list[-1]\n",
    "        fib_list.append(next)\n",
    "    return [i for i in fib_list if i < stop]"
   ]
  },
  {
   "cell_type": "code",
   "execution_count": 107,
   "id": "e7bbf88c-628e-4f30-ad36-515ad62d5c18",
   "metadata": {},
   "outputs": [
    {
     "data": {
      "text/plain": [
       "[0, 1, 1, 2, 3, 5]"
      ]
     },
     "execution_count": 107,
     "metadata": {},
     "output_type": "execute_result"
    }
   ],
   "source": [
    "fib_generator2(stop)"
   ]
  },
  {
   "cell_type": "code",
   "execution_count": 108,
   "id": "a0bb5e3e-28b0-44da-bed7-4f80efd76a86",
   "metadata": {},
   "outputs": [
    {
     "data": {
      "text/plain": [
       "[0, 1, 1, 2, 3, 5, 8, 13, 21, 34]"
      ]
     },
     "execution_count": 108,
     "metadata": {},
     "output_type": "execute_result"
    }
   ],
   "source": [
    "fib_generator2(37)"
   ]
  },
  {
   "cell_type": "code",
   "execution_count": null,
   "id": "ed484e1b-7760-48db-a60a-291827f748d8",
   "metadata": {},
   "outputs": [],
   "source": []
  }
 ],
 "metadata": {
  "kernelspec": {
   "display_name": "Python 3 (ipykernel)",
   "language": "python",
   "name": "python3"
  },
  "language_info": {
   "codemirror_mode": {
    "name": "ipython",
    "version": 3
   },
   "file_extension": ".py",
   "mimetype": "text/x-python",
   "name": "python",
   "nbconvert_exporter": "python",
   "pygments_lexer": "ipython3",
   "version": "3.12.4"
  }
 },
 "nbformat": 4,
 "nbformat_minor": 5
}
