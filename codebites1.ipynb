{
 "cells": [
  {
   "cell_type": "markdown",
   "id": "58c0bab0-c081-491f-a98e-7672a47a0dab",
   "metadata": {},
   "source": [
    "# Codebites 1"
   ]
  },
  {
   "cell_type": "markdown",
   "id": "f2073237-be27-4f49-b4d9-58a08f25681c",
   "metadata": {},
   "source": [
    "#### Armstrong Number"
   ]
  },
  {
   "cell_type": "markdown",
   "id": "b3ef673b-78ff-4a99-973e-32f67e7f8cae",
   "metadata": {},
   "source": [
    "Write a function that checks whether a given number is an Armstrong number or not. An Armstrong number (also known as a Narcissistic number) is one that is **equal to the sum of its own digits**, each **raised to the power of the number of digits**."
   ]
  },
  {
   "cell_type": "markdown",
   "id": "d7d1d453-5cce-435b-880d-a8ffa387a7a7",
   "metadata": {},
   "source": [
    "Example: <br>\n",
    "- 153 is an Armstrong number because 1^3 + 5^3 + 3^3 = 153\n",
    "- 371 is an Armstrong number because 3^3 + 7^3 + 1^3 = 371"
   ]
  },
  {
   "cell_type": "markdown",
   "id": "617e6a1e-d33e-469b-8abb-0d8bc5711779",
   "metadata": {},
   "source": [
    "- Input: some integer\n",
    "- Output: verdict"
   ]
  },
  {
   "cell_type": "code",
   "execution_count": 81,
   "id": "fe753f19-1479-41f4-b38f-d100ad307f09",
   "metadata": {},
   "outputs": [],
   "source": [
    "def armstrong(x): \n",
    "    total = 0\n",
    "    x = str(x)\n",
    "    for num in x: \n",
    "        total += int(num) ** len(x)\n",
    "    if total == int(x):\n",
    "        return \"Is Armstrong\"\n",
    "    else: \n",
    "        return \"Not Armstrong\""
   ]
  },
  {
   "cell_type": "code",
   "execution_count": 147,
   "id": "fa0832e2-f583-4a46-a59b-ba695f448ecd",
   "metadata": {},
   "outputs": [
    {
     "data": {
      "text/plain": [
       "'Is Armstrong'"
      ]
     },
     "execution_count": 147,
     "metadata": {},
     "output_type": "execute_result"
    }
   ],
   "source": [
    "armstrong(371)"
   ]
  },
  {
   "cell_type": "code",
   "execution_count": 83,
   "id": "b292f963-51f8-4ea5-a2c4-81e24eba5d41",
   "metadata": {},
   "outputs": [
    {
     "data": {
      "text/plain": [
       "'Is Armstrong'"
      ]
     },
     "execution_count": 83,
     "metadata": {},
     "output_type": "execute_result"
    }
   ],
   "source": [
    "armstrong(153)"
   ]
  },
  {
   "cell_type": "code",
   "execution_count": 84,
   "id": "4eeec68a-d750-41da-b185-7011e2dac7f1",
   "metadata": {},
   "outputs": [
    {
     "data": {
      "text/plain": [
       "'Is Armstrong'"
      ]
     },
     "execution_count": 84,
     "metadata": {},
     "output_type": "execute_result"
    }
   ],
   "source": [
    "armstrong(534494836)"
   ]
  },
  {
   "cell_type": "code",
   "execution_count": 148,
   "id": "b32417c6-9e45-44fa-8992-9a7083cd59d3",
   "metadata": {},
   "outputs": [
    {
     "data": {
      "text/plain": [
       "'Not Armstrong'"
      ]
     },
     "execution_count": 148,
     "metadata": {},
     "output_type": "execute_result"
    }
   ],
   "source": [
    "armstrong(10)"
   ]
  },
  {
   "cell_type": "markdown",
   "id": "110e4cdd-3b9b-45b5-b68d-7369757f7c68",
   "metadata": {},
   "source": [
    "#### Longest Word in a Sentence"
   ]
  },
  {
   "cell_type": "markdown",
   "id": "3e4f955f-d61d-4caf-b0e7-e99939778a0f",
   "metadata": {},
   "source": [
    "Write a function that finds the **longest word** in a given sentence."
   ]
  },
  {
   "cell_type": "markdown",
   "id": "465d3cd3-1362-41dd-ae64-9a92164f7617",
   "metadata": {},
   "source": [
    "- Input: \"The quick brown fox\"\n",
    "- Output: \"quick\""
   ]
  },
  {
   "cell_type": "code",
   "execution_count": 232,
   "id": "7d46f6c1-82a3-4958-be07-54f121afee98",
   "metadata": {},
   "outputs": [],
   "source": [
    "# The following function returns the LENGTH of the longest word. But that's not what we want.\n",
    "def longest(x):\n",
    "    tracker = 1\n",
    "    for word in x.split(' '):\n",
    "        if len(word) > tracker:\n",
    "            tracker = len(word)   \n",
    "    return tracker   "
   ]
  },
  {
   "cell_type": "code",
   "execution_count": 233,
   "id": "a310737e-8209-4a5e-9e06-6b2d992acd93",
   "metadata": {},
   "outputs": [
    {
     "data": {
      "text/plain": [
       "5"
      ]
     },
     "execution_count": 233,
     "metadata": {},
     "output_type": "execute_result"
    }
   ],
   "source": [
    "longest(\"The quick brown fox\")"
   ]
  },
  {
   "cell_type": "code",
   "execution_count": 234,
   "id": "3842f1dc-2a07-42e7-92b0-02b02b528fbe",
   "metadata": {},
   "outputs": [
    {
     "data": {
      "text/plain": [
       "8"
      ]
     },
     "execution_count": 234,
     "metadata": {},
     "output_type": "execute_result"
    }
   ],
   "source": [
    "longest(\"Write a program that finds the longest word in a given sentence\")"
   ]
  },
  {
   "cell_type": "code",
   "execution_count": 241,
   "id": "e9054c36-b065-4c6e-a050-914554102dee",
   "metadata": {},
   "outputs": [],
   "source": [
    "def longest_word(x):\n",
    "    longest = []\n",
    "    tracker = 1\n",
    "    for word in x.split(' '):\n",
    "        if len(word) > tracker:\n",
    "            longest.append(word)\n",
    "            tracker += 1\n",
    "    for item in longest:\n",
    "        if len(item) > tracker:\n",
    "            return item\n",
    "  "
   ]
  },
  {
   "cell_type": "code",
   "execution_count": 242,
   "id": "6b57b251-3653-4e0b-a76a-2040eaa6a9fc",
   "metadata": {},
   "outputs": [
    {
     "data": {
      "text/plain": [
       "'quick'"
      ]
     },
     "execution_count": 242,
     "metadata": {},
     "output_type": "execute_result"
    }
   ],
   "source": [
    "longest_word(\"The quick brown fox\")"
   ]
  },
  {
   "cell_type": "code",
   "execution_count": 243,
   "id": "5559c46d-8a14-4280-bad9-db5824b2fefd",
   "metadata": {},
   "outputs": [
    {
     "data": {
      "text/plain": [
       "'sentence'"
      ]
     },
     "execution_count": 243,
     "metadata": {},
     "output_type": "execute_result"
    }
   ],
   "source": [
    "longest_word(\"Write a program that finds the longest word in a given sentence\")"
   ]
  },
  {
   "cell_type": "markdown",
   "id": "bb13fbf1-0923-4249-bb57-14d3ef194b89",
   "metadata": {},
   "source": [
    "##### Can be solved by dictionary comprehension:"
   ]
  },
  {
   "cell_type": "markdown",
   "id": "1aa01c8c-02a0-4fe2-aedd-1489b0d970f8",
   "metadata": {},
   "source": [
    "**Important:** When we apply a MAX function to the dictionary, it finds the MAX based on the KEY, not the value."
   ]
  },
  {
   "cell_type": "code",
   "execution_count": null,
   "id": "04d1eb81-4042-4fcb-9db6-d135453c5cc4",
   "metadata": {},
   "outputs": [],
   "source": [
    "# to do: explain why didn't work - wrong method\n",
    "res = {i:len(i) for i in x.split(' ')}"
   ]
  },
  {
   "cell_type": "code",
   "execution_count": null,
   "id": "53f296e8-fa21-4f98-b724-b57bac56a067",
   "metadata": {},
   "outputs": [],
   "source": [
    "# this the method returns the key, based on the value\n",
    "max(res,key = res.get)"
   ]
  },
  {
   "cell_type": "markdown",
   "id": "3ba51c03-b3f2-4cf0-997d-8f5ade796b14",
   "metadata": {},
   "source": [
    "#### First Non-Repeating Character:"
   ]
  },
  {
   "cell_type": "markdown",
   "id": "90992d49-5468-4b39-8497-9155abf5c76e",
   "metadata": {},
   "source": [
    "Write a function to find the **first non-repeating character** in a given string. If all characters repeat, return None."
   ]
  },
  {
   "cell_type": "markdown",
   "id": "f5149d1e-1d53-42cc-8bb8-0a2e6da674b3",
   "metadata": {},
   "source": [
    "- Input: \"swiss\"\n",
    "- Output: \"w\""
   ]
  },
  {
   "cell_type": "markdown",
   "id": "346401d0-c0b7-4f50-9dce-a69324288eab",
   "metadata": {},
   "source": [
    "##### Logic:\n",
    "- We initialize an empty dictionary to be able to count the letters as we encounter them.\n",
    "- Empty list is used to record the letters that are counted as '1' by our dictonary.\n",
    "- We go over each letter in string x and if the string is in the counts dictionary, we increment to it, but if it wasn't previously there we record the quantity to be = 1, and record this letter in our list that holds the results.\n",
    "- Issue: will return all non-duplicates, not just the first one"
   ]
  },
  {
   "cell_type": "code",
   "execution_count": 309,
   "id": "f5892681-1e05-47c7-ac77-4530bb37c0e3",
   "metadata": {},
   "outputs": [],
   "source": [
    "def first_unique(x):\n",
    "    order = []\n",
    "    counts = {}\n",
    "    for letter in x:\n",
    "        if letter in counts:\n",
    "            counts[letter] += 1\n",
    "        else:\n",
    "            counts[letter] = 1\n",
    "            order.append(letter)\n",
    "    for letter in order:\n",
    "        if counts[letter] == 1:\n",
    "            return letter \n",
    "    return None\n",
    "    "
   ]
  },
  {
   "cell_type": "code",
   "execution_count": 310,
   "id": "b8768d6b-299b-431a-be35-c695f857af73",
   "metadata": {},
   "outputs": [
    {
     "data": {
      "text/plain": [
       "'w'"
      ]
     },
     "execution_count": 310,
     "metadata": {},
     "output_type": "execute_result"
    }
   ],
   "source": [
    "first_unique('swiss')"
   ]
  },
  {
   "cell_type": "code",
   "execution_count": 311,
   "id": "0d0876b3-04ef-4c0e-8b37-db7fca3f94fc",
   "metadata": {},
   "outputs": [],
   "source": [
    "def first_unique2(x):\n",
    "    return str([a for a in x if x.count(a) == 1][0])"
   ]
  },
  {
   "cell_type": "code",
   "execution_count": 308,
   "id": "a3ddd99f-9226-481a-8045-417f5caf42d2",
   "metadata": {},
   "outputs": [
    {
     "data": {
      "text/plain": [
       "'w'"
      ]
     },
     "execution_count": 308,
     "metadata": {},
     "output_type": "execute_result"
    }
   ],
   "source": [
    "first_unique2('swiss')"
   ]
  },
  {
   "cell_type": "markdown",
   "id": "75a0fa15-bb10-4603-96b6-3d596bf57e02",
   "metadata": {},
   "source": [
    "#### Find Kth Largest Element:"
   ]
  },
  {
   "cell_type": "markdown",
   "id": "82c30b18-dc27-47d6-8ad4-5181ec15c2f0",
   "metadata": {},
   "source": [
    "Write a function that finds the **k-th largest element** in an unsorted array."
   ]
  },
  {
   "cell_type": "markdown",
   "id": "a4c2d377-0adf-4422-b86c-d3ec138f0f29",
   "metadata": {},
   "source": [
    "- Input: [3, 2, 1, 5, 6, 4] and k=2\n",
    "- Output: 5"
   ]
  },
  {
   "cell_type": "code",
   "execution_count": 328,
   "id": "9df2d32e-225e-4e9d-a01d-bf3840246829",
   "metadata": {},
   "outputs": [],
   "source": [
    "def largest_kth(arr, k):\n",
    "    return sorted(arr)[-k]"
   ]
  },
  {
   "cell_type": "code",
   "execution_count": 329,
   "id": "7f170524-a022-45fb-8a8d-f4d181c270c4",
   "metadata": {},
   "outputs": [
    {
     "data": {
      "text/plain": [
       "5"
      ]
     },
     "execution_count": 329,
     "metadata": {},
     "output_type": "execute_result"
    }
   ],
   "source": [
    "largest_kth([3, 2, 1, 5, 6, 4], 2)"
   ]
  },
  {
   "cell_type": "code",
   "execution_count": 330,
   "id": "570671c1-387f-4a7a-908a-99318fbc5bbd",
   "metadata": {},
   "outputs": [
    {
     "data": {
      "text/plain": [
       "6"
      ]
     },
     "execution_count": 330,
     "metadata": {},
     "output_type": "execute_result"
    }
   ],
   "source": [
    "largest_kth([3, 2, 1, 5, 6, 4], 1)"
   ]
  },
  {
   "cell_type": "code",
   "execution_count": 331,
   "id": "fcef7138-f457-4d11-9583-eb6613e3dc96",
   "metadata": {},
   "outputs": [
    {
     "data": {
      "text/plain": [
       "1"
      ]
     },
     "execution_count": 331,
     "metadata": {},
     "output_type": "execute_result"
    }
   ],
   "source": [
    "largest_kth([3, 2, 1, 5, 6, 4], 6)"
   ]
  },
  {
   "cell_type": "markdown",
   "id": "83af80b6-c213-4023-8aff-f62c3e140251",
   "metadata": {},
   "source": [
    "#### Power of 2:"
   ]
  },
  {
   "cell_type": "markdown",
   "id": "cdb2e31d-3fad-4b41-9644-f75f52810d94",
   "metadata": {},
   "source": [
    "Determine whether the number is a power of 2: x^2 = our number.\n",
    "\n",
    "- Input: integer\n",
    "- Output: Y/N"
   ]
  },
  {
   "cell_type": "code",
   "execution_count": 318,
   "id": "a81dab0f-8990-480b-9b6b-438e6ea948cd",
   "metadata": {},
   "outputs": [],
   "source": [
    "def if_power(x):\n",
    "    # try constant division by 2 - goal is to receive 1 in the end\n",
    "    while x>1:\n",
    "        x = x/2 # we keep dividing x by 2 un til it reaches 1\n",
    "    if x == 1:\n",
    "        return \"Y\"\n",
    "    else:\n",
    "        return \"N\""
   ]
  },
  {
   "cell_type": "code",
   "execution_count": 319,
   "id": "6b9446f7-93f3-4303-9019-8e11ff0e91da",
   "metadata": {},
   "outputs": [
    {
     "data": {
      "text/plain": [
       "'Y'"
      ]
     },
     "execution_count": 319,
     "metadata": {},
     "output_type": "execute_result"
    }
   ],
   "source": [
    "if_power(32)"
   ]
  },
  {
   "cell_type": "code",
   "execution_count": 320,
   "id": "afeaa13b-4569-4f14-8745-e944749107f7",
   "metadata": {},
   "outputs": [
    {
     "data": {
      "text/plain": [
       "'N'"
      ]
     },
     "execution_count": 320,
     "metadata": {},
     "output_type": "execute_result"
    }
   ],
   "source": [
    "if_power(100)"
   ]
  }
 ],
 "metadata": {
  "kernelspec": {
   "display_name": "Python 3 (ipykernel)",
   "language": "python",
   "name": "python3"
  },
  "language_info": {
   "codemirror_mode": {
    "name": "ipython",
    "version": 3
   },
   "file_extension": ".py",
   "mimetype": "text/x-python",
   "name": "python",
   "nbconvert_exporter": "python",
   "pygments_lexer": "ipython3",
   "version": "3.12.4"
  }
 },
 "nbformat": 4,
 "nbformat_minor": 5
}
